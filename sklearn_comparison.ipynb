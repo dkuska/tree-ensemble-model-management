{
 "cells": [
  {
   "cell_type": "markdown",
   "metadata": {},
   "source": [
    "## Imports"
   ]
  },
  {
   "cell_type": "code",
   "execution_count": 32,
   "metadata": {},
   "outputs": [],
   "source": [
    "import json\n",
    "import os\n",
    "import pickle\n",
    "\n",
    "import pandas as pd\n",
    "\n",
    "import treelite\n",
    "from treelite import Model, ModelBuilder\n",
    "import treelite.sklearn"
   ]
  },
  {
   "cell_type": "markdown",
   "metadata": {},
   "source": [
    "## Paths"
   ]
  },
  {
   "cell_type": "code",
   "execution_count": 33,
   "metadata": {},
   "outputs": [],
   "source": [
    "model_dir_daily_10_trees = \"models/sklearn/daily/10_trees\"\n",
    "model_dir_daily_100_trees = \"models/sklearn/daily/100_trees\"\n",
    "model_dir_5days_10_trees = \"models/sklearn/5days/10_trees\"\n",
    "model_dir_5days_100_trees = \"models/sklearn/5days/100_trees\""
   ]
  },
  {
   "cell_type": "markdown",
   "metadata": {},
   "source": [
    "## Load Models Daily"
   ]
  },
  {
   "cell_type": "code",
   "execution_count": 34,
   "metadata": {},
   "outputs": [],
   "source": [
    "def get_model_jsons(model_dir):\n",
    "    models = {}\n",
    "\n",
    "    # Iterate over Files\n",
    "    for model_name in os.listdir(model_dir):\n",
    "        model_path = os.path.join(model_dir, model_name)\n",
    "        \n",
    "        # Load Model from SKLearn\n",
    "        with open(model_path, \"rb\") as f:\n",
    "            model = pickle.load(f)\n",
    "            \n",
    "        # Load Model into Treelite\n",
    "        treelite_model = treelite.sklearn.import_model(model)\n",
    "        # Load JSON Representation\n",
    "        treelite_model_json = json.loads(treelite_model.dump_as_json(pretty_print=False))\n",
    "        \n",
    "        models[model_name] = treelite_model_json\n",
    "        \n",
    "    return models"
   ]
  },
  {
   "cell_type": "code",
   "execution_count": 35,
   "metadata": {},
   "outputs": [],
   "source": [
    "daily_model_10_trees = get_model_jsons(model_dir_daily_10_trees)\n",
    "daily_model_100_trees = get_model_jsons(model_dir_daily_100_trees)\n",
    "\n",
    "fiveday_model_10_trees = get_model_jsons(model_dir_5days_10_trees)\n",
    "fiveday_model_100_trees = get_model_jsons(model_dir_5days_100_trees)"
   ]
  },
  {
   "cell_type": "markdown",
   "metadata": {},
   "source": [
    "## Comparisons"
   ]
  },
  {
   "cell_type": "code",
   "execution_count": 36,
   "metadata": {},
   "outputs": [],
   "source": [
    "def remove_unneeded_node_keys(node):\n",
    "    node.pop(\"data_count\", None)\n",
    "    node.pop(\"sum_hess\", None)\n",
    "    node.pop(\"gain\", None)\n",
    "    return node\n",
    "\n",
    "\n",
    "def duplicate_tree(tree1, tree2):\n",
    "    duplicate_ratio = 0.0\n",
    "    num_nodes = 0\n",
    "    # Sanity Checks\n",
    "    if tree1[\"num_nodes\"] == tree2[\"num_nodes\"] and tree1[\"has_categorical_split\"] == tree2[\"has_categorical_split\"]:\n",
    "        num_nodes = len(tree1[\"nodes\"])\n",
    "        duplicate_nodes = 0\n",
    "        # Iterate over nodes\n",
    "        for node1 in tree1[\"nodes\"]:\n",
    "            node1 = remove_unneeded_node_keys(node1)\n",
    "            for node2 in tree2[\"nodes\"]:\n",
    "                node2 = remove_unneeded_node_keys(node2)\n",
    "                if node1 == node2:\n",
    "                    duplicate_nodes += 1\n",
    "        \n",
    "        duplicate_ratio = duplicate_nodes/num_nodes\n",
    "            \n",
    "    return num_nodes, duplicate_ratio\n",
    "\n",
    "\n",
    "def duplicate_trees(trees1, trees2):\n",
    "    duplicate_data = []\n",
    "    # Iterate over Trees\n",
    "    for i, tree1 in enumerate(trees1):\n",
    "        for j, tree2 in enumerate(trees2):\n",
    "            num_nodes, duplicate_ratio = duplicate_tree(tree1, tree2)\n",
    "            \n",
    "            if duplicate_ratio == 1.0:\n",
    "                print(f\"Found duplicate_tree for tree {i} and tree {j}\")\n",
    "            # if duplicate_ratio > 0.0:\n",
    "            #     print(f\"Duplicate Ratio for tree {i} and tree {j}: {duplicate_ratio}\")\n",
    "                \n",
    "            duplicate_data.append({\n",
    "                \"num_tree_model1\": i,\n",
    "                \"num_tree_model2\": j,\n",
    "                \"num_nodes\": num_nodes,\n",
    "                \"duplicate_ratio\": duplicate_ratio\n",
    "            })\n",
    "            \n",
    "    return duplicate_data\n",
    "   \n",
    "\n",
    "def duplicate_model(model1: dict, model2: dict) -> bool:\n",
    "    if model1[\"num_feature\"] != model2[\"num_feature\"]:\n",
    "        return False \n",
    "    elif model1[\"task_type\"] != model2[\"task_type\"]:\n",
    "        return False \n",
    "    elif model1[\"average_tree_output\"] != model2[\"average_tree_output\"]:\n",
    "        return False \n",
    "    elif model1[\"task_param\"] != model2[\"task_param\"]:\n",
    "        return False \n",
    "    elif model1[\"model_param\"] != model2[\"model_param\"]:\n",
    "        return False \n",
    "    else:\n",
    "        return duplicate_trees(model1[\"trees\"], model2[\"trees\"])\n",
    "\n",
    "\n",
    "def compare_models(models: list):\n",
    "    \n",
    "    duplicate_data = []\n",
    "    \n",
    "    for i, (model_name_a, model_a) in enumerate(models.items()):\n",
    "        for j, (model_name_b, model_b) in enumerate(models.items()):\n",
    "            if i == j: continue\n",
    "\n",
    "            duplicate_dict_list = duplicate_model(model_a, model_b)\n",
    "            \n",
    "            duplicate_dict_list = [{**d, \"model1\": model_name_a, \"model2\": model_name_b} for d in duplicate_dict_list]\n",
    "            duplicate_data.extend(duplicate_dict_list)\n",
    "            \n",
    "    return pd.DataFrame(duplicate_data)"
   ]
  },
  {
   "cell_type": "code",
   "execution_count": 37,
   "metadata": {},
   "outputs": [
    {
     "data": {
      "text/html": [
       "<div>\n",
       "<style scoped>\n",
       "    .dataframe tbody tr th:only-of-type {\n",
       "        vertical-align: middle;\n",
       "    }\n",
       "\n",
       "    .dataframe tbody tr th {\n",
       "        vertical-align: top;\n",
       "    }\n",
       "\n",
       "    .dataframe thead th {\n",
       "        text-align: right;\n",
       "    }\n",
       "</style>\n",
       "<table border=\"1\" class=\"dataframe\">\n",
       "  <thead>\n",
       "    <tr style=\"text-align: right;\">\n",
       "      <th></th>\n",
       "      <th>num_tree_model1</th>\n",
       "      <th>num_tree_model2</th>\n",
       "      <th>num_nodes</th>\n",
       "      <th>duplicate_ratio</th>\n",
       "    </tr>\n",
       "  </thead>\n",
       "  <tbody>\n",
       "    <tr>\n",
       "      <th>count</th>\n",
       "      <td>93000.000000</td>\n",
       "      <td>93000.000000</td>\n",
       "      <td>93000.000000</td>\n",
       "      <td>93000.000000</td>\n",
       "    </tr>\n",
       "    <tr>\n",
       "      <th>mean</th>\n",
       "      <td>4.500000</td>\n",
       "      <td>4.500000</td>\n",
       "      <td>13.588129</td>\n",
       "      <td>0.069193</td>\n",
       "    </tr>\n",
       "    <tr>\n",
       "      <th>std</th>\n",
       "      <td>2.872297</td>\n",
       "      <td>2.872297</td>\n",
       "      <td>4.375841</td>\n",
       "      <td>0.078189</td>\n",
       "    </tr>\n",
       "    <tr>\n",
       "      <th>min</th>\n",
       "      <td>0.000000</td>\n",
       "      <td>0.000000</td>\n",
       "      <td>0.000000</td>\n",
       "      <td>0.000000</td>\n",
       "    </tr>\n",
       "    <tr>\n",
       "      <th>25%</th>\n",
       "      <td>2.000000</td>\n",
       "      <td>2.000000</td>\n",
       "      <td>15.000000</td>\n",
       "      <td>0.000000</td>\n",
       "    </tr>\n",
       "    <tr>\n",
       "      <th>50%</th>\n",
       "      <td>4.500000</td>\n",
       "      <td>4.500000</td>\n",
       "      <td>15.000000</td>\n",
       "      <td>0.066667</td>\n",
       "    </tr>\n",
       "    <tr>\n",
       "      <th>75%</th>\n",
       "      <td>7.000000</td>\n",
       "      <td>7.000000</td>\n",
       "      <td>15.000000</td>\n",
       "      <td>0.133333</td>\n",
       "    </tr>\n",
       "    <tr>\n",
       "      <th>max</th>\n",
       "      <td>9.000000</td>\n",
       "      <td>9.000000</td>\n",
       "      <td>15.000000</td>\n",
       "      <td>0.466667</td>\n",
       "    </tr>\n",
       "  </tbody>\n",
       "</table>\n",
       "</div>"
      ],
      "text/plain": [
       "       num_tree_model1  num_tree_model2     num_nodes  duplicate_ratio\n",
       "count     93000.000000     93000.000000  93000.000000     93000.000000\n",
       "mean          4.500000         4.500000     13.588129         0.069193\n",
       "std           2.872297         2.872297      4.375841         0.078189\n",
       "min           0.000000         0.000000      0.000000         0.000000\n",
       "25%           2.000000         2.000000     15.000000         0.000000\n",
       "50%           4.500000         4.500000     15.000000         0.066667\n",
       "75%           7.000000         7.000000     15.000000         0.133333\n",
       "max           9.000000         9.000000     15.000000         0.466667"
      ]
     },
     "metadata": {},
     "output_type": "display_data"
    },
    {
     "name": "stdout",
     "output_type": "stream",
     "text": [
      "duplicate_ratio\n",
      "0.000000    40260\n",
      "0.066667    25368\n",
      "0.133333    15506\n",
      "0.200000     8238\n",
      "0.266667     2832\n",
      "0.333333      682\n",
      "0.400000      106\n",
      "0.466667        8\n",
      "Name: count, dtype: int64\n"
     ]
    }
   ],
   "source": [
    "duplicate_data = compare_models(daily_model_10_trees)\n",
    "display(duplicate_data.describe())\n",
    "print(duplicate_data['duplicate_ratio'].value_counts())"
   ]
  },
  {
   "cell_type": "code",
   "execution_count": 38,
   "metadata": {},
   "outputs": [],
   "source": [
    "# duplicate_data = compare_models(daily_model_100_trees)\n",
    "# display(duplicate_data.describe())\n",
    "# print(duplicate_data['duplicate_ratio'].value_counts())"
   ]
  },
  {
   "cell_type": "code",
   "execution_count": 39,
   "metadata": {},
   "outputs": [],
   "source": [
    "# duplicate_data = compare_models(fiveday_model_10_trees)\n",
    "# display(duplicate_data.describe())\n",
    "# print(duplicate_data['duplicate_ratio'].value_counts())"
   ]
  },
  {
   "cell_type": "code",
   "execution_count": 40,
   "metadata": {},
   "outputs": [],
   "source": [
    "# duplicate_data = compare_models(fiveday_model_100_trees)\n",
    "# display(duplicate_data.describe())\n",
    "# print(duplicate_data['duplicate_ratio'].value_counts())"
   ]
  }
 ],
 "metadata": {
  "kernelspec": {
   "display_name": ".venv",
   "language": "python",
   "name": "python3"
  },
  "language_info": {
   "codemirror_mode": {
    "name": "ipython",
    "version": 3
   },
   "file_extension": ".py",
   "mimetype": "text/x-python",
   "name": "python",
   "nbconvert_exporter": "python",
   "pygments_lexer": "ipython3",
   "version": "3.9.12"
  }
 },
 "nbformat": 4,
 "nbformat_minor": 2
}
