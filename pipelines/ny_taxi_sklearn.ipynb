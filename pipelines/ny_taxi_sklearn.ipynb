{
 "cells": [
  {
   "cell_type": "code",
   "execution_count": 1,
   "metadata": {},
   "outputs": [],
   "source": [
    "import os\n",
    "import datetime\n",
    "import pickle\n",
    "\n",
    "import sklearn\n",
    "from sklearn.ensemble import RandomForestRegressor\n",
    "import pandas as pd"
   ]
  },
  {
   "cell_type": "code",
   "execution_count": 2,
   "metadata": {},
   "outputs": [],
   "source": [
    "# Paths\n",
    "data_path = \"../data/yellow_tripdata_2016-01.csv\"\n",
    "model_output_dir = \"../models/\""
   ]
  },
  {
   "cell_type": "code",
   "execution_count": 3,
   "metadata": {},
   "outputs": [],
   "source": [
    "# Model Parameters\n",
    "n_estimators = 100"
   ]
  },
  {
   "cell_type": "code",
   "execution_count": 4,
   "metadata": {},
   "outputs": [],
   "source": [
    "# Load Data\n",
    "data = pd.read_csv(data_path)"
   ]
  },
  {
   "cell_type": "markdown",
   "metadata": {},
   "source": [
    "### Preprocessing"
   ]
  },
  {
   "cell_type": "code",
   "execution_count": 5,
   "metadata": {},
   "outputs": [],
   "source": [
    "# Convert Columns to datetime objects\n",
    "data[\"tpep_pickup_datetime\"] = pd.to_datetime(data['tpep_pickup_datetime'], format='%Y-%m-%d %H:%M:%S')\n",
    "\n",
    "# Drop unneeded columns\n",
    "data = data.drop([\"tpep_dropoff_datetime\", \"store_and_fwd_flag\"], axis=1)\n",
    "\n",
    "# Set pickup date as index - will be useful later on for slicing\n",
    "data = data.set_index(\"tpep_pickup_datetime\")\n",
    "data = data.sort_index()\n"
   ]
  },
  {
   "cell_type": "markdown",
   "metadata": {},
   "source": [
    "## Experiment 1 - Disjunct Training Data Sets\n",
    "\n",
    "- Each model is trained on the data of a single day"
   ]
  },
  {
   "cell_type": "code",
   "execution_count": 6,
   "metadata": {},
   "outputs": [],
   "source": [
    "# Group the data into segments of one day each\n",
    "daily_segments = data.groupby(pd.Grouper(freq=\"1D\"))\n",
    "\n",
    "# Iterate over daily segments\n",
    "for date, segment_data in daily_segments:\n",
    "    # Split data into training data and target\n",
    "    # Here we remove the datetime columns, the categorical columns and the target column\n",
    "    X = segment_data.drop(labels=[\"trip_distance\"], axis=1)\n",
    "    y = segment_data[\"trip_distance\"]\n",
    "    # Define SKLearn Model\n",
    "    model = RandomForestRegressor(n_estimators=n_estimators, max_depth=3)\n",
    "\n",
    "    # Train SKLearn Model\n",
    "    model.fit(X, y)\n",
    "\n",
    "    # Save SKLearn Model\n",
    "    model_save_file = (\n",
    "        model_output_dir\n",
    "        + \"sklearn/daily/\"\n",
    "        + f\"sklearn_{n_estimators}_trees_daily_{date.date()}.pkl\"\n",
    "    )\n",
    "    with open(model_save_file, \"wb\") as f:\n",
    "        pickle.dump(model, f)"
   ]
  },
  {
   "cell_type": "markdown",
   "metadata": {},
   "source": [
    "# Experiment 2 - Overlapping Training Data Sets\n",
    "\n",
    "- Each Model is trained on a 5 day window\n",
    "- A model is trained each day\n",
    "- So from one model to the next 4/5 of training data are identical"
   ]
  },
  {
   "cell_type": "code",
   "execution_count": 7,
   "metadata": {},
   "outputs": [],
   "source": [
    "from datetime import datetime\n",
    "\n",
    "for i in range(1, 28):\n",
    "    start_datetime = datetime(2016, 1, i, 0, 0, 0)\n",
    "    end_datetime = datetime(2016, 1, i + 4, 0, 0, 0)\n",
    "\n",
    "    segment_data = data[start_datetime:end_datetime]\n",
    "    X = segment_data.drop(labels=[\"trip_distance\"], axis=1)\n",
    "    y = segment_data[\"trip_distance\"]\n",
    "\n",
    "    # Define SKLearn Model\n",
    "    model = RandomForestRegressor(n_estimators=n_estimators, max_depth=3)\n",
    "\n",
    "    # Train SKLearn Model\n",
    "    model.fit(X, y)\n",
    "\n",
    "    # Save SKLearn Model\n",
    "    model_save_file = (\n",
    "        model_output_dir\n",
    "        + \"sklearn/5days/\"\n",
    "        + f\"sklearn_{n_estimators}_trees_{start_datetime.date()}_{end_datetime.date()}.pkl\"\n",
    "    )\n",
    "    with open(model_save_file, \"wb\") as f:\n",
    "        pickle.dump(model, f)"
   ]
  }
 ],
 "metadata": {
  "kernelspec": {
   "display_name": ".venv",
   "language": "python",
   "name": "python3"
  },
  "language_info": {
   "codemirror_mode": {
    "name": "ipython",
    "version": 3
   },
   "file_extension": ".py",
   "mimetype": "text/x-python",
   "name": "python",
   "nbconvert_exporter": "python",
   "pygments_lexer": "ipython3",
   "version": "3.9.12"
  }
 },
 "nbformat": 4,
 "nbformat_minor": 2
}
