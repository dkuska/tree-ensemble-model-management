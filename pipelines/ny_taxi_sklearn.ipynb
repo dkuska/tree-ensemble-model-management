{
 "cells": [
  {
   "cell_type": "code",
   "execution_count": 1,
   "metadata": {},
   "outputs": [],
   "source": [
    "import os\n",
    "import datetime\n",
    "import pickle\n",
    "\n",
    "import sklearn\n",
    "from sklearn.ensemble import RandomForestRegressor\n",
    "import pandas as pd"
   ]
  },
  {
   "cell_type": "code",
   "execution_count": 2,
   "metadata": {},
   "outputs": [],
   "source": [
    "# Paths\n",
    "data_path = \"../data/yellow_tripdata_2016-01.csv\"\n",
    "model_output_dir = \"../models/\""
   ]
  },
  {
   "cell_type": "code",
   "execution_count": 8,
   "metadata": {},
   "outputs": [],
   "source": [
    "# Model Parameters\n",
    "n_estimators = 10"
   ]
  },
  {
   "cell_type": "code",
   "execution_count": 4,
   "metadata": {},
   "outputs": [],
   "source": [
    "# Load Data\n",
    "data = pd.read_csv(data_path)"
   ]
  },
  {
   "cell_type": "markdown",
   "metadata": {},
   "source": [
    "### Preprocessing"
   ]
  },
  {
   "cell_type": "code",
   "execution_count": 5,
   "metadata": {},
   "outputs": [],
   "source": [
    "# Convert Columns to datetime objects\n",
    "data[\"tpep_pickup_datetime\"] = pd.to_datetime(data['tpep_pickup_datetime'], format='%Y-%m-%d %H:%M:%S')\n",
    "\n",
    "# Drop unneeded columns\n",
    "data = data.drop([\"tpep_dropoff_datetime\", \"store_and_fwd_flag\"], axis=1)\n",
    "\n",
    "# Set pickup date as index - will be useful later on for slicing\n",
    "data = data.set_index(\"tpep_pickup_datetime\")\n",
    "data = data.sort_index()\n"
   ]
  },
  {
   "cell_type": "markdown",
   "metadata": {},
   "source": [
    "## Experiment 1 - Disjunct Training Data Sets\n",
    "\n",
    "- Each model is trained on the data of a single day"
   ]
  },
  {
   "cell_type": "code",
   "execution_count": 14,
   "metadata": {},
   "outputs": [
    {
     "name": "stdout",
     "output_type": "stream",
     "text": [
      "2016-01-01\n",
      "2016-01-02\n",
      "2016-01-03\n",
      "2016-01-04\n",
      "2016-01-05\n",
      "2016-01-06\n",
      "2016-01-07\n",
      "2016-01-08\n",
      "2016-01-09\n",
      "2016-01-10\n",
      "2016-01-11\n",
      "2016-01-12\n",
      "2016-01-13\n",
      "2016-01-14\n",
      "2016-01-15\n",
      "2016-01-16\n",
      "2016-01-17\n",
      "2016-01-18\n",
      "2016-01-19\n",
      "2016-01-20\n",
      "2016-01-21\n",
      "2016-01-22\n",
      "2016-01-23\n",
      "2016-01-24\n",
      "2016-01-25\n",
      "2016-01-26\n",
      "2016-01-27\n",
      "2016-01-28\n",
      "2016-01-29\n",
      "2016-01-30\n",
      "2016-01-31\n"
     ]
    }
   ],
   "source": [
    "# Group the data into segments of one day each\n",
    "daily_segments = data.groupby(pd.Grouper(freq=\"1D\"))\n",
    "\n",
    "# Iterate over daily segments\n",
    "for date, segment_data in daily_segments:\n",
    "    # Split data into training data and target\n",
    "    # Here we remove the datetime columns, the categorical columns and the target column\n",
    "    X = segment_data.drop(labels=[\"total_amount\"], axis=1)\n",
    "    y = segment_data[\"total_amount\"]\n",
    "    \n",
    "    # Define SKLearn Model\n",
    "    model = RandomForestRegressor(\n",
    "        n_estimators=n_estimators,\n",
    "        max_depth=3\n",
    "    )\n",
    "    \n",
    "    # Train SKLearn Model\n",
    "    model.fit(X, y)\n",
    "    \n",
    "    # Save SKLearn Model\n",
    "    model_save_file = model_output_dir + \"sklearn/daily/\" + f\"sklearn_{n_estimators}_trees_daily_{date.date()}.pkl\"\n",
    "    with open(model_save_file, \"wb\") as f:\n",
    "        pickle.dump(model, f)\n",
    "    "
   ]
  },
  {
   "cell_type": "markdown",
   "metadata": {},
   "source": [
    "# Experiment 2 - Overlapping Training Data Sets\n",
    "\n",
    "- Each Model is trained on a 5 day window\n",
    "- A model is trained each day\n",
    "- So from one model to the next 4/5 of training data are identical"
   ]
  },
  {
   "cell_type": "code",
   "execution_count": 15,
   "metadata": {},
   "outputs": [],
   "source": [
    "from datetime import datetime\n",
    "\n",
    "for i in range(1, 28):\n",
    "    start_datetime  = datetime(2016, 1, i, 0, 0, 0)\n",
    "    end_datetime = datetime(2016, 1, i+4, 0, 0, 0)\n",
    "    \n",
    "    segment_data = data[start_datetime:end_datetime]\n",
    "    \n",
    "    X = segment_data.drop(labels=[\"total_amount\"], axis=1)\n",
    "    y = segment_data[\"total_amount\"]\n",
    "    \n",
    "    \n",
    "    # Define SKLearn Model\n",
    "    model = RandomForestRegressor(\n",
    "        n_estimators=n_estimators,\n",
    "        max_depth=3\n",
    "    )\n",
    "    \n",
    "    # Train SKLearn Model\n",
    "    model.fit(X, y)\n",
    "    \n",
    "    # Save SKLearn Model\n",
    "    model_save_file = model_output_dir + \"sklearn/5days/\" + f\"sklearn_{n_estimators}_trees_{start_datetime.date()}_{end_datetime.date()}.pkl\"\n",
    "    with open(model_save_file, \"wb\") as f:\n",
    "        pickle.dump(model, f)\n"
   ]
  }
 ],
 "metadata": {
  "kernelspec": {
   "display_name": ".venv",
   "language": "python",
   "name": "python3"
  },
  "language_info": {
   "codemirror_mode": {
    "name": "ipython",
    "version": 3
   },
   "file_extension": ".py",
   "mimetype": "text/x-python",
   "name": "python",
   "nbconvert_exporter": "python",
   "pygments_lexer": "ipython3",
   "version": "3.9.12"
  }
 },
 "nbformat": 4,
 "nbformat_minor": 2
}
