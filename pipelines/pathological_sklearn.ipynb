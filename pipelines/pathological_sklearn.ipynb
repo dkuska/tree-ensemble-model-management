{
 "cells": [
  {
   "cell_type": "code",
   "execution_count": 1,
   "metadata": {},
   "outputs": [],
   "source": [
    "import pickle\n",
    "\n",
    "from sklearn.datasets import load_iris\n",
    "from sklearn.ensemble import RandomForestClassifier"
   ]
  },
  {
   "cell_type": "code",
   "execution_count": 2,
   "metadata": {},
   "outputs": [],
   "source": [
    "n_estimators = 100\n",
    "\n",
    "data, target = load_iris(return_X_y=True)\n",
    "\n",
    "model_output_dir = \"../models/sklearn/pathological/\""
   ]
  },
  {
   "cell_type": "code",
   "execution_count": 5,
   "metadata": {},
   "outputs": [],
   "source": [
    "for i in range(100):\n",
    "    rf = RandomForestClassifier(n_estimators=n_estimators, random_state=i)\n",
    "    rf = rf.fit(data, target)\n",
    "    \n",
    "    \n",
    "    # Save SKLearn Model\n",
    "    model_save_file = model_output_dir + f\"pathological_{n_estimators}_trees_seed_{i}.pkl\"\n",
    "    with open(model_save_file, \"wb\") as f:\n",
    "        pickle.dump(rf, f)"
   ]
  }
 ],
 "metadata": {
  "kernelspec": {
   "display_name": ".venv",
   "language": "python",
   "name": "python3"
  },
  "language_info": {
   "codemirror_mode": {
    "name": "ipython",
    "version": 3
   },
   "file_extension": ".py",
   "mimetype": "text/x-python",
   "name": "python",
   "nbconvert_exporter": "python",
   "pygments_lexer": "ipython3",
   "version": "3.9.12"
  }
 },
 "nbformat": 4,
 "nbformat_minor": 2
}
