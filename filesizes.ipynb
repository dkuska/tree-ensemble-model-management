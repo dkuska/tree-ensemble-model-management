{
 "cells": [
  {
   "cell_type": "code",
   "execution_count": 27,
   "metadata": {},
   "outputs": [],
   "source": [
    "import json\n",
    "import os\n",
    "import sys\n",
    "\n",
    "import pandas as pd\n",
    "import xgboost as xgb\n",
    "\n",
    "from classes import Model, Node, Tree, SplitType, ParamT\n",
    "\n",
    "import time\n",
    "\n",
    "import json\n",
    "import os\n",
    "import pickle\n",
    "\n",
    "import pandas as pd\n",
    "\n",
    "import treelite\n",
    "from treelite import Model, ModelBuilder\n",
    "import treelite.sklearn"
   ]
  },
  {
   "cell_type": "markdown",
   "metadata": {},
   "source": [
    "## XGBoost"
   ]
  },
  {
   "cell_type": "code",
   "execution_count": 28,
   "metadata": {},
   "outputs": [],
   "source": [
    "xgboost_100_path_json = \"/home/nano/projects/tree-ensemble-model-management/models/xgboost_100_trees_daily_2016-01-01.json\"\n",
    "xgboost_1000_path_json = \"models/xgboost/daily/xgboost_1000_trees_daily_2016-01-01.json\""
   ]
  },
  {
   "cell_type": "code",
   "execution_count": 46,
   "metadata": {},
   "outputs": [
    {
     "name": "stdout",
     "output_type": "stream",
     "text": [
      "JSON File_size:  108221\n",
      "JSON dt_recover:  0.012692928314208984\n",
      "JSON dt_save:  0.011789083480834961\n",
      "Treelite dt_save:  0.0049610137939453125\n",
      "Treelite dt_recover:  0.00041556358337402344\n",
      "Treelite File_size:  107436\n",
      "JSON File_size:  1064294\n",
      "JSON dt_recover:  0.0659949779510498\n",
      "JSON dt_save:  0.03760528564453125\n",
      "Treelite dt_save:  0.0257265567779541\n",
      "Treelite dt_recover:  0.0018093585968017578\n",
      "Treelite File_size:  1061328\n"
     ]
    }
   ],
   "source": [
    "for file_name in [\n",
    "    xgboost_100_path_json,\n",
    "    xgboost_1000_path_json,\n",
    "]:\n",
    "    print(\"JSON File_size: \", os.path.getsize(file_name))\n",
    "\n",
    "    # Load XGBoost Model\n",
    "    t0 = time.time()\n",
    "    with open(file_name, \"r\") as f:\n",
    "        model_json = f.read()\n",
    "    booster = xgb.Booster()\n",
    "    booster.load_model(file_name)\n",
    "    print(\"JSON dt_recover: \", time.time() - t0)\n",
    "\n",
    "    t0 = time.time()\n",
    "    booster.save_model(\"model.json\")\n",
    "    print(\"JSON dt_save: \", time.time() - t0)\n",
    "\n",
    "    # Treelite\n",
    "    t0 = time.time()\n",
    "    with open(file_name, \"r\") as f:\n",
    "        model_json = f.read()\n",
    "    model = Model.from_xgboost_json(model_json)\n",
    "    model.serialize(\"treelite.bin\")\n",
    "    print(\"Treelite dt_save: \", time.time() - t0)\n",
    "\n",
    "    t0 = time.time()\n",
    "    model = Model()\n",
    "    model.deserialize(\"treelite.bin\")\n",
    "    print(\"Treelite dt_recover: \", time.time() - t0)\n",
    "    print(\"Treelite File_size: \", os.path.getsize(\"treelite.bin\"))"
   ]
  },
  {
   "cell_type": "markdown",
   "metadata": {},
   "source": [
    "## SKLearn"
   ]
  },
  {
   "cell_type": "code",
   "execution_count": 47,
   "metadata": {},
   "outputs": [],
   "source": [
    "sklearn_100_path_pkl = \"/home/nano/projects/tree-ensemble-model-management/models/sklearn/daily/100_trees/sklearn_100_trees_daily_2016-01-02.pkl\"\n",
    "sklearn_1000_path_pkl = \"/home/nano/projects/tree-ensemble-model-management/models/sklearn/daily/sklearn_1000_trees_daily_2016-01-01.pkl\""
   ]
  },
  {
   "cell_type": "code",
   "execution_count": 52,
   "metadata": {},
   "outputs": [
    {
     "name": "stdout",
     "output_type": "stream",
     "text": [
      "Pickle dt_recover:  0.005334138870239258\n",
      "Pickle dt_save:  0.03096604347229004\n",
      "Pickle File_size:  133272\n",
      "Treelite dt_save:  0.010691642761230469\n",
      "Treelite dt_recover:  0.00045180320739746094\n",
      "Treelite File_size:  127212\n",
      "\n",
      "\n",
      "Pickle dt_recover:  0.0289609432220459\n",
      "Pickle dt_save:  0.022776126861572266\n",
      "Pickle File_size:  1318739\n",
      "Treelite dt_save:  0.26085782051086426\n",
      "Treelite dt_recover:  0.0026466846466064453\n",
      "Treelite File_size:  1269312\n",
      "\n",
      "\n"
     ]
    }
   ],
   "source": [
    "for file_name in [\n",
    "    sklearn_100_path_pkl,\n",
    "    sklearn_1000_path_pkl,\n",
    "]:\n",
    "    # Load Pickle Model\n",
    "    t0 = time.time()\n",
    "    with open(file_name, \"rb\") as f:\n",
    "        model = pickle.load(f)\n",
    "    print(\"Pickle dt_recover: \", time.time() - t0)\n",
    "\n",
    "    # Save Pickle Model\n",
    "    t0 = time.time()\n",
    "    with open(file_name + \".pkl\", \"wb\") as f:\n",
    "        pickle.dump(booster, f)\n",
    "    print(\"Pickle dt_save: \", time.time() - t0)\n",
    "\n",
    "    print(\"Pickle File_size: \", os.path.getsize(file_name))\n",
    "\n",
    "    # Treelite Save\n",
    "    t0 = time.time()\n",
    "    with open(file_name, \"rb\") as f:\n",
    "        model = pickle.load(f)\n",
    "    model = treelite.sklearn.import_model(model)\n",
    "    model.serialize(\"treelite.bin\")\n",
    "    print(\"Treelite dt_save: \", time.time() - t0)\n",
    "\n",
    "    # Treelite Deserialize\n",
    "    t0 = time.time()\n",
    "    model = Model()\n",
    "    model.deserialize(\"treelite.bin\")\n",
    "    print(\"Treelite dt_recover: \", time.time() - t0)\n",
    "\n",
    "    print(\"Treelite File_size: \", os.path.getsize(\"treelite.bin\"))\n",
    "    \n",
    "    print()\n",
    "    print()"
   ]
  },
  {
   "cell_type": "code",
   "execution_count": null,
   "metadata": {},
   "outputs": [],
   "source": []
  }
 ],
 "metadata": {
  "kernelspec": {
   "display_name": ".venv",
   "language": "python",
   "name": "python3"
  },
  "language_info": {
   "codemirror_mode": {
    "name": "ipython",
    "version": 3
   },
   "file_extension": ".py",
   "mimetype": "text/x-python",
   "name": "python",
   "nbconvert_exporter": "python",
   "pygments_lexer": "ipython3",
   "version": "3.9.12"
  }
 },
 "nbformat": 4,
 "nbformat_minor": 2
}
