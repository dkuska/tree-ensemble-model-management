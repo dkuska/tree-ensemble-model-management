{
 "cells": [
  {
   "cell_type": "code",
   "execution_count": 2,
   "metadata": {},
   "outputs": [],
   "source": [
    "import os\n",
    "import datetime\n",
    "\n",
    "import xgboost\n",
    "import pandas as pd"
   ]
  },
  {
   "cell_type": "code",
   "execution_count": 3,
   "metadata": {},
   "outputs": [],
   "source": [
    "# Paths\n",
    "data_path = \"../data/yellow_tripdata_2016-01.csv\"\n",
    "model_output_dir = \"../models/\""
   ]
  },
  {
   "cell_type": "code",
   "execution_count": 4,
   "metadata": {},
   "outputs": [],
   "source": [
    "# Model Parameters\n",
    "n_estimators = 1000"
   ]
  },
  {
   "cell_type": "code",
   "execution_count": 5,
   "metadata": {},
   "outputs": [],
   "source": [
    "# Load Data\n",
    "data = pd.read_csv(data_path)"
   ]
  },
  {
   "cell_type": "markdown",
   "metadata": {},
   "source": [
    "### Preprocessing"
   ]
  },
  {
   "cell_type": "code",
   "execution_count": 6,
   "metadata": {},
   "outputs": [],
   "source": [
    "# Convert Columns to datetime objects\n",
    "data[\"tpep_pickup_datetime\"] = pd.to_datetime(data['tpep_pickup_datetime'], format='%Y-%m-%d %H:%M:%S')\n",
    "\n",
    "# Drop unneeded columns\n",
    "data = data.drop([\"tpep_dropoff_datetime\", \"store_and_fwd_flag\"], axis=1)\n",
    "\n",
    "# Set pickup date as index - will be useful later on for slicing\n",
    "data = data.set_index(\"tpep_pickup_datetime\")\n",
    "data = data.sort_index()\n"
   ]
  },
  {
   "cell_type": "markdown",
   "metadata": {},
   "source": [
    "## Experiment 1 - Disjunct Training Data Sets\n",
    "\n",
    "- Each model is trained on the data of a single day"
   ]
  },
  {
   "cell_type": "code",
   "execution_count": 6,
   "metadata": {},
   "outputs": [
    {
     "name": "stdout",
     "output_type": "stream",
     "text": [
      "Data for 2016-01-01 00:00:00:\n",
      "345037\n",
      "Data for 2016-01-02 00:00:00:\n",
      "312831\n",
      "Data for 2016-01-03 00:00:00:\n",
      "302878\n",
      "Data for 2016-01-04 00:00:00:\n",
      "316171\n",
      "Data for 2016-01-05 00:00:00:\n",
      "343251\n",
      "Data for 2016-01-06 00:00:00:\n",
      "348516\n",
      "Data for 2016-01-07 00:00:00:\n",
      "364894\n",
      "Data for 2016-01-08 00:00:00:\n",
      "392070\n",
      "Data for 2016-01-09 00:00:00:\n",
      "405825\n",
      "Data for 2016-01-10 00:00:00:\n",
      "351788\n",
      "Data for 2016-01-11 00:00:00:\n",
      "342651\n",
      "Data for 2016-01-12 00:00:00:\n",
      "367390\n",
      "Data for 2016-01-13 00:00:00:\n",
      "395090\n",
      "Data for 2016-01-14 00:00:00:\n",
      "396473\n",
      "Data for 2016-01-15 00:00:00:\n",
      "401289\n",
      "Data for 2016-01-16 00:00:00:\n",
      "411899\n",
      "Data for 2016-01-17 00:00:00:\n",
      "379156\n",
      "Data for 2016-01-18 00:00:00:\n",
      "341481\n",
      "Data for 2016-01-19 00:00:00:\n",
      "385187\n",
      "Data for 2016-01-20 00:00:00:\n",
      "382105\n",
      "Data for 2016-01-21 00:00:00:\n",
      "399654\n",
      "Data for 2016-01-22 00:00:00:\n",
      "420162\n",
      "Data for 2016-01-23 00:00:00:\n",
      "78133\n",
      "Data for 2016-01-24 00:00:00:\n",
      "159766\n",
      "Data for 2016-01-25 00:00:00:\n",
      "282087\n",
      "Data for 2016-01-26 00:00:00:\n",
      "327655\n",
      "Data for 2016-01-27 00:00:00:\n",
      "359180\n",
      "Data for 2016-01-28 00:00:00:\n",
      "383326\n",
      "Data for 2016-01-29 00:00:00:\n",
      "414039\n",
      "Data for 2016-01-30 00:00:00:\n",
      "435369\n",
      "Data for 2016-01-31 00:00:00:\n",
      "361505\n"
     ]
    }
   ],
   "source": [
    "# Group the data into segments of one day each\n",
    "daily_segments = data.groupby(pd.Grouper(freq=\"1D\"))\n",
    "\n",
    "# Iterate over daily segments\n",
    "for date, segment_data in daily_segments:\n",
    "   \n",
    "    # Split data into training data and target\n",
    "    # Here we remove the datetime columns, the categorical columns and the target column\n",
    "    X = segment_data.drop(labels=[\"total_amount\"], axis=1)\n",
    "    y = segment_data[\"total_amount\"]\n",
    "    \n",
    "    # Define XGBoost Model\n",
    "    x_model = xgboost.XGBRegressor(\n",
    "        learning_rate=0.1, \n",
    "        n_estimators=n_estimators, \n",
    "        max_depth=3, \n",
    "        min_child_weight=3,\n",
    "        gamma=0, \n",
    "        subsample=0.8, \n",
    "        reg_alpha=200, \n",
    "        reg_lambda=200, \n",
    "        colsample_bytree=0.8, \n",
    "        n_jobs=-1\n",
    "    )\n",
    "    # Train XGBoost Model\n",
    "    x_model.fit(X, y)\n",
    "    \n",
    "    # Save XGBoost Model\n",
    "    model_save_file = model_output_dir + f\"xgboost_{n_estimators}_trees_daily_{date.date()}.json\"\n",
    "    x_model.save_model(model_save_file)\n",
    "    "
   ]
  },
  {
   "cell_type": "markdown",
   "metadata": {},
   "source": [
    "# Experiment 2 - Overlapping Training Data Sets\n",
    "\n",
    "- Each Model is trained on a 5 day window\n",
    "- A model is trained each day\n",
    "- So from one model to the next 4/5 of training data are identical"
   ]
  },
  {
   "cell_type": "code",
   "execution_count": 8,
   "metadata": {},
   "outputs": [],
   "source": [
    "from datetime import datetime\n",
    "\n",
    "for i in range(1, 28):\n",
    "    start_datetime  = datetime(2016, 1, i, 0, 0, 0)\n",
    "    end_datetime = datetime(2016, 1, i+4, 0, 0, 0)\n",
    "    \n",
    "    segment_data = data[start_datetime:end_datetime]\n",
    "    \n",
    "    X = segment_data.drop(labels=[\"total_amount\"], axis=1)\n",
    "    y = segment_data[\"total_amount\"]\n",
    "    \n",
    "    # Define XGBoost Model\n",
    "    x_model = xgboost.XGBRegressor(\n",
    "        learning_rate=0.1, \n",
    "        n_estimators=n_estimators, \n",
    "        max_depth=3, \n",
    "        min_child_weight=3,\n",
    "        gamma=0, \n",
    "        subsample=0.8, \n",
    "        reg_alpha=200, \n",
    "        reg_lambda=200, \n",
    "        colsample_bytree=0.8, \n",
    "        n_jobs=-1\n",
    "    )\n",
    "    # Train XGBoost Model\n",
    "    x_model.fit(X, y)\n",
    "    \n",
    "    model_save_file = model_output_dir + f\"xgboost_{n_estimators}_trees_5days_{start_datetime.date()}_{end_datetime.date()}.json\"\n",
    "    x_model.save_model(model_save_file)"
   ]
  },
  {
   "cell_type": "markdown",
   "metadata": {},
   "source": [
    "# Experiment 3 - Incremental Training\n",
    "\n",
    "- Each Model is trained on a 1 day window\n",
    "- The initial Model has 10 Trees\n",
    "- Each Incremental Model adds 10 more Trees"
   ]
  },
  {
   "cell_type": "code",
   "execution_count": 13,
   "metadata": {},
   "outputs": [],
   "source": [
    "# Group the data into segments of one day each\n",
    "daily_segments = data.groupby(pd.Grouper(freq=\"1D\"))\n",
    "\n",
    "trees_per_round = 10\n",
    "total_trees = trees_per_round\n",
    "\n",
    "params = {\n",
    "    'max_depth': 3,\n",
    "    'learning_rate': 0.1,\n",
    "}\n",
    "\n",
    "model = None\n",
    "\n",
    "# Iterate over daily segments\n",
    "for i, (date, segment_data) in enumerate(daily_segments):\n",
    "   \n",
    "    # Split data into training data and target\n",
    "    # Here we remove the datetime columns, the categorical columns and the target column\n",
    "    X = segment_data.drop(labels=[\"total_amount\"], axis=1)\n",
    "    y = segment_data[\"total_amount\"]\n",
    "    \n",
    "    # Train Model Sequentially by boosting for `trees_per_round` rounds\n",
    "    model = xgboost.train(params, dtrain=xgboost.DMatrix(X, label=y),\n",
    "                        xgb_model=model, num_boost_round=trees_per_round)\n",
    "    \n",
    "    \n",
    "    # Save XGBoost Model\n",
    "    model_save_file = model_output_dir + f\"/incremental/xgboost_{total_trees}_trees_incremental_{date.date()}.json\"    \n",
    "    model.save_model(model_save_file)\n",
    "\n",
    "    total_trees += trees_per_round\n",
    "    "
   ]
  },
  {
   "cell_type": "code",
   "execution_count": null,
   "metadata": {},
   "outputs": [],
   "source": []
  }
 ],
 "metadata": {
  "kernelspec": {
   "display_name": ".venv",
   "language": "python",
   "name": "python3"
  },
  "language_info": {
   "codemirror_mode": {
    "name": "ipython",
    "version": 3
   },
   "file_extension": ".py",
   "mimetype": "text/x-python",
   "name": "python",
   "nbconvert_exporter": "python",
   "pygments_lexer": "ipython3",
   "version": "3.9.12"
  }
 },
 "nbformat": 4,
 "nbformat_minor": 2
}
