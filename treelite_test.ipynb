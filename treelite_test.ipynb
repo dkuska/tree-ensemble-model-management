{
 "cells": [
  {
   "cell_type": "code",
   "execution_count": 20,
   "metadata": {},
   "outputs": [],
   "source": [
    "import treelite\n",
    "from treelite import Model, ModelBuilder"
   ]
  },
  {
   "cell_type": "code",
   "execution_count": 17,
   "metadata": {},
   "outputs": [
    {
     "data": {
      "text/plain": [
       "'3.9.1'"
      ]
     },
     "execution_count": 17,
     "metadata": {},
     "output_type": "execute_result"
    }
   ],
   "source": [
    "treelite.__version__"
   ]
  },
  {
   "cell_type": "code",
   "execution_count": 3,
   "metadata": {},
   "outputs": [],
   "source": [
    "model_file = \"models/incremental/xgboost_1_trees_incremental_2016-01-01.json\"\n",
    "\n",
    "with open(model_file) as f:\n",
    "    model_json = f.read()"
   ]
  },
  {
   "cell_type": "code",
   "execution_count": 21,
   "metadata": {},
   "outputs": [],
   "source": [
    "model = Model.from_xgboost_json(model_json)"
   ]
  },
  {
   "cell_type": "code",
   "execution_count": 22,
   "metadata": {},
   "outputs": [
    {
     "data": {
      "text/plain": [
       "1"
      ]
     },
     "execution_count": 22,
     "metadata": {},
     "output_type": "execute_result"
    }
   ],
   "source": [
    "model.num_tree"
   ]
  },
  {
   "cell_type": "code",
   "execution_count": 23,
   "metadata": {},
   "outputs": [
    {
     "data": {
      "text/plain": [
       "15"
      ]
     },
     "execution_count": 23,
     "metadata": {},
     "output_type": "execute_result"
    }
   ],
   "source": [
    "model.num_feature"
   ]
  },
  {
   "cell_type": "code",
   "execution_count": 24,
   "metadata": {},
   "outputs": [
    {
     "name": "stdout",
     "output_type": "stream",
     "text": [
      "{\n",
      "    \"num_feature\": 15,\n",
      "    \"task_type\": \"kBinaryClfRegr\",\n",
      "    \"average_tree_output\": false,\n",
      "    \"task_param\": {\n",
      "        \"output_type\": \"float\",\n",
      "        \"grove_per_class\": false,\n",
      "        \"num_class\": 1,\n",
      "        \"leaf_vector_size\": 1\n",
      "    },\n",
      "    \"model_param\": {\n",
      "        \"pred_transform\": \"identity\",\n",
      "        \"sigmoid_alpha\": 1.0,\n",
      "        \"ratio_c\": 1.0,\n",
      "        \"global_bias\": 15.64011001586914\n",
      "    },\n",
      "    \"trees\": [{\n",
      "            \"num_nodes\": 15,\n",
      "            \"has_categorical_split\": false,\n",
      "            \"nodes\": [{\n",
      "                    \"node_id\": 0,\n",
      "                    \"split_feature_id\": 9,\n",
      "                    \"default_left\": false,\n",
      "                    \"split_type\": \"numerical\",\n",
      "                    \"comparison_op\": \"<\",\n",
      "                    \"threshold\": 24.5,\n",
      "                    \"left_child\": 1,\n",
      "                    \"right_child\": 2,\n",
      "                    \"sum_hess\": 345037.0,\n",
      "                    \"gain\": 37677624.0\n",
      "                }, {\n",
      "                    \"node_id\": 1,\n",
      "                    \"split_feature_id\": 9,\n",
      "                    \"default_left\": false,\n",
      "                    \"split_type\": \"numerical\",\n",
      "                    \"comparison_op\": \"<\",\n",
      "                    \"threshold\": 12.0,\n",
      "                    \"left_child\": 3,\n",
      "                    \"right_child\": 4,\n",
      "                    \"sum_hess\": 308909.0,\n",
      "                    \"gain\": 6504565.5\n",
      "                }, {\n",
      "                    \"node_id\": 2,\n",
      "                    \"split_feature_id\": 9,\n",
      "                    \"default_left\": false,\n",
      "                    \"split_type\": \"numerical\",\n",
      "                    \"comparison_op\": \"<\",\n",
      "                    \"threshold\": 45.5,\n",
      "                    \"left_child\": 5,\n",
      "                    \"right_child\": 6,\n",
      "                    \"sum_hess\": 36128.0,\n",
      "                    \"gain\": 7098504.0\n",
      "                }, {\n",
      "                    \"node_id\": 3,\n",
      "                    \"split_feature_id\": 9,\n",
      "                    \"default_left\": false,\n",
      "                    \"split_type\": \"numerical\",\n",
      "                    \"comparison_op\": \"<\",\n",
      "                    \"threshold\": 7.5,\n",
      "                    \"left_child\": 7,\n",
      "                    \"right_child\": 8,\n",
      "                    \"sum_hess\": 220839.0,\n",
      "                    \"gain\": 970938.0\n",
      "                }, {\n",
      "                    \"node_id\": 4,\n",
      "                    \"split_feature_id\": 9,\n",
      "                    \"default_left\": false,\n",
      "                    \"split_type\": \"numerical\",\n",
      "                    \"comparison_op\": \"<\",\n",
      "                    \"threshold\": 17.5,\n",
      "                    \"left_child\": 9,\n",
      "                    \"right_child\": 10,\n",
      "                    \"sum_hess\": 88070.0,\n",
      "                    \"gain\": 993903.75\n",
      "                }, {\n",
      "                    \"node_id\": 5,\n",
      "                    \"split_feature_id\": 9,\n",
      "                    \"default_left\": false,\n",
      "                    \"split_type\": \"numerical\",\n",
      "                    \"comparison_op\": \"<\",\n",
      "                    \"threshold\": 33.0,\n",
      "                    \"left_child\": 11,\n",
      "                    \"right_child\": 12,\n",
      "                    \"sum_hess\": 25266.0,\n",
      "                    \"gain\": 566853.0\n",
      "                }, {\n",
      "                    \"node_id\": 6,\n",
      "                    \"split_feature_id\": 9,\n",
      "                    \"default_left\": false,\n",
      "                    \"split_type\": \"numerical\",\n",
      "                    \"comparison_op\": \"<\",\n",
      "                    \"threshold\": 63.5,\n",
      "                    \"left_child\": 13,\n",
      "                    \"right_child\": 14,\n",
      "                    \"sum_hess\": 10862.0,\n",
      "                    \"gain\": 2057898.0\n",
      "                }, {\n",
      "                    \"node_id\": 7,\n",
      "                    \"leaf_value\": -0.8469393849372864,\n",
      "                    \"sum_hess\": 115752.0\n",
      "                }, {\n",
      "                    \"node_id\": 8,\n",
      "                    \"leaf_value\": -0.42708173394203188,\n",
      "                    \"sum_hess\": 105087.0\n",
      "                }, {\n",
      "                    \"node_id\": 9,\n",
      "                    \"leaf_value\": 0.117827869951725,\n",
      "                    \"sum_hess\": 56449.0\n",
      "                }, {\n",
      "                    \"node_id\": 10,\n",
      "                    \"leaf_value\": 0.8181010484695435,\n",
      "                    \"sum_hess\": 31621.0\n",
      "                }, {\n",
      "                    \"node_id\": 11,\n",
      "                    \"leaf_value\": 1.8063856363296509,\n",
      "                    \"sum_hess\": 17017.0\n",
      "                }, {\n",
      "                    \"node_id\": 12,\n",
      "                    \"leaf_value\": 2.816833972930908,\n",
      "                    \"sum_hess\": 8249.0\n",
      "                }, {\n",
      "                    \"node_id\": 13,\n",
      "                    \"leaf_value\": 4.6677680015563969,\n",
      "                    \"sum_hess\": 9484.0\n",
      "                }, {\n",
      "                    \"node_id\": 14,\n",
      "                    \"leaf_value\": 8.804813385009766,\n",
      "                    \"sum_hess\": 1378.0\n",
      "                }]\n",
      "        }]\n",
      "}\n"
     ]
    }
   ],
   "source": [
    "print(model.dump_as_json())"
   ]
  },
  {
   "cell_type": "markdown",
   "metadata": {},
   "source": [
    "## Model Builder"
   ]
  },
  {
   "cell_type": "code",
   "execution_count": 34,
   "metadata": {},
   "outputs": [],
   "source": [
    "builder = treelite.ModelBuilder(num_feature=3)\n",
    "\n",
    "tree = ModelBuilder.Tree()\n",
    "\n",
    "# Node #0: feature 0 < 5.0 ? (default direction left)\n",
    "tree[0].set_numerical_test_node(feature_id=0,\n",
    "                                opname='<',\n",
    "                                threshold=5.0,\n",
    "                                default_left=True,\n",
    "                                left_child_key=1,\n",
    "                                right_child_key=2)\n",
    "# Node #2: leaf with output +0.6\n",
    "tree[2].set_leaf_node(0.6)\n",
    "# Node #1: feature 2 < -3.0 ? (default direction right)\n",
    "tree[1].set_numerical_test_node(feature_id=2,\n",
    "                                opname='<',\n",
    "                                threshold=-3.0,\n",
    "                                default_left=False,\n",
    "                                left_child_key=3,\n",
    "                                right_child_key=4)\n",
    "# Node #3: leaf with output -0.4\n",
    "tree[3].set_leaf_node(-0.4)\n",
    "# Node #4: leaf with output +1.2\n",
    "tree[4].set_leaf_node(1.2)\n",
    "# Set node #0 as root\n",
    "tree[0].set_root()\n",
    "builder.append(tree)\n",
    "\n",
    "tree2 = treelite.ModelBuilder.Tree()\n",
    "# Node #0: feature 1 < 2.5 ? (default direction right)\n",
    "tree2[0].set_numerical_test_node(feature_id=1,\n",
    "                                 opname='<',\n",
    "                                 threshold=2.5,\n",
    "                                 default_left=False,\n",
    "                                 left_child_key=1,\n",
    "                                 right_child_key=2)\n",
    "# Set node #0 as root\n",
    "tree2[0].set_root()\n",
    "# Node #1: leaf with output +1.6\n",
    "tree2[1].set_leaf_node(1.6)\n",
    "# Node #2: feature 2 < -1.2 ? (default direction left)\n",
    "tree2[2].set_numerical_test_node(feature_id=2,\n",
    "                                 opname='<',\n",
    "                                 threshold=-1.2,\n",
    "                                 default_left=True,\n",
    "                                 left_child_key=3,\n",
    "                                 right_child_key=4)\n",
    "# Node #3: leaf with output +0.1\n",
    "tree2[3].set_leaf_node(0.1)\n",
    "# Node #4: leaf with output -0.3\n",
    "tree2[4].set_leaf_node(-0.3)\n",
    "\n",
    "# Insert the second tree into the ensemble\n",
    "builder.append(tree2)\n",
    "\n",
    "model = builder.commit()"
   ]
  },
  {
   "cell_type": "code",
   "execution_count": null,
   "metadata": {},
   "outputs": [],
   "source": []
  }
 ],
 "metadata": {
  "kernelspec": {
   "display_name": ".venv",
   "language": "python",
   "name": "python3"
  },
  "language_info": {
   "codemirror_mode": {
    "name": "ipython",
    "version": 3
   },
   "file_extension": ".py",
   "mimetype": "text/x-python",
   "name": "python",
   "nbconvert_exporter": "python",
   "pygments_lexer": "ipython3",
   "version": "3.9.12"
  }
 },
 "nbformat": 4,
 "nbformat_minor": 2
}
