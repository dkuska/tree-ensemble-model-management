{
 "cells": [
  {
   "cell_type": "code",
   "execution_count": 1,
   "metadata": {},
   "outputs": [],
   "source": [
    "import os, sys\n",
    "import time\n",
    "\n",
    "from pprint import pprint\n",
    "from collections import defaultdict\n",
    "\n",
    "import matplotlib.pyplot as plt\n",
    "\n",
    "import bz2\n",
    "import gzip\n",
    "import zlib"
   ]
  },
  {
   "cell_type": "code",
   "execution_count": 13,
   "metadata": {},
   "outputs": [],
   "source": [
    "sklearn_path = (\n",
    "    \"/home/nano/projects/tree-ensemble-model-management/models/sklearn/5days/100_trees\"\n",
    ")\n",
    "\n",
    "xgboost_path = \"/home/nano/projects/tree-ensemble-model-management/models/xgboost/5days\""
   ]
  },
  {
   "cell_type": "code",
   "execution_count": 17,
   "metadata": {},
   "outputs": [],
   "source": [
    "# def xor_bytes(byte_str1, byte_str2):\n",
    "#     # Ensure both byte strings are of the same length\n",
    "#     if len(byte_str1) != len(byte_str2):\n",
    "#         raise ValueError(\"Byte strings must be of equal length\")\n",
    "\n",
    "#     # XOR each pair of bytes and store the result\n",
    "#     result = bytes([a ^ b for a, b in zip(byte_str1, byte_str2)])\n",
    "#     return result\n",
    "\n",
    "\n",
    "def xor_bytes(byte_str1, byte_str2):\n",
    "    # Determine the length of the shorter byte string\n",
    "    min_len = min(len(byte_str1), len(byte_str2))\n",
    "\n",
    "    # XOR each pair of bytes up to the length of the shorter byte string\n",
    "    result = bytes([a ^ b for a, b in zip(byte_str1[:min_len], byte_str2[:min_len])])\n",
    "\n",
    "    # Append any remaining bytes from the longer byte string\n",
    "    if len(byte_str1) > len(byte_str2):\n",
    "        result += byte_str1[min_len:]\n",
    "    elif len(byte_str2) > len(byte_str1):\n",
    "        result += byte_str2[min_len:]\n",
    "\n",
    "    return result"
   ]
  },
  {
   "cell_type": "code",
   "execution_count": 20,
   "metadata": {},
   "outputs": [],
   "source": [
    "def get_diff_stats(model_folder, compression_func):\n",
    "    model_files = os.listdir(model_folder)\n",
    "\n",
    "    # Read all model binary strings\n",
    "    model_binary_strings = []\n",
    "    for model_file in model_files:\n",
    "        with open(os.path.join(model_folder, model_file), \"rb\") as f:\n",
    "            model_binary = f.read()\n",
    "        model_binary_strings.append(model_binary)\n",
    "\n",
    "    for model_idx in range(0, len(model_files) - 1):\n",
    "        current_model = model_binary_strings[model_idx]\n",
    "        next_model = model_binary_strings[model_idx + 1]\n",
    "\n",
    "        current_model_compressed = compression_func(current_model)\n",
    "        next_model_compressed = compression_func(next_model)\n",
    "\n",
    "\n",
    "        xor_uncompressed = xor_bytes(current_model, next_model)\n",
    "        xor_compressed = xor_bytes(current_model_compressed, next_model_compressed)\n",
    "\n",
    "        xor_compressed_compressed = compression_func(xor_compressed)\n",
    "        xor_uncompressed_compressed = compression_func(xor_uncompressed)\n",
    "\n",
    "        print(\n",
    "            f\"Len Compressed Original-XOR: {len(xor_uncompressed_compressed)}; Len Compressed Compressed-XOR: {len(xor_compressed_compressed)}; \"\n",
    "        )"
   ]
  },
  {
   "cell_type": "code",
   "execution_count": 21,
   "metadata": {},
   "outputs": [
    {
     "name": "stdout",
     "output_type": "stream",
     "text": [
      "Len Compressed Original-XOR: 38723; Len Compressed Compressed-XOR: 37167; \n",
      "Len Compressed Original-XOR: 39606; Len Compressed Compressed-XOR: 37884; \n",
      "Len Compressed Original-XOR: 59246; Len Compressed Compressed-XOR: 37884; \n",
      "Len Compressed Original-XOR: 57847; Len Compressed Compressed-XOR: 36938; \n",
      "Len Compressed Original-XOR: 39075; Len Compressed Compressed-XOR: 37854; \n",
      "Len Compressed Original-XOR: 78046; Len Compressed Compressed-XOR: 37854; \n",
      "Len Compressed Original-XOR: 77447; Len Compressed Compressed-XOR: 36558; \n",
      "Len Compressed Original-XOR: 35804; Len Compressed Compressed-XOR: 37155; \n",
      "Len Compressed Original-XOR: 35902; Len Compressed Compressed-XOR: 37155; \n",
      "Len Compressed Original-XOR: 39168; Len Compressed Compressed-XOR: 37792; \n",
      "Len Compressed Original-XOR: 38938; Len Compressed Compressed-XOR: 37792; \n",
      "Len Compressed Original-XOR: 35683; Len Compressed Compressed-XOR: 36788; \n",
      "Len Compressed Original-XOR: 77085; Len Compressed Compressed-XOR: 36788; \n",
      "Len Compressed Original-XOR: 76990; Len Compressed Compressed-XOR: 36409; \n",
      "Len Compressed Original-XOR: 35324; Len Compressed Compressed-XOR: 36599; \n",
      "Len Compressed Original-XOR: 36997; Len Compressed Compressed-XOR: 37352; \n",
      "Len Compressed Original-XOR: 36830; Len Compressed Compressed-XOR: 38076; \n",
      "Len Compressed Original-XOR: 39751; Len Compressed Compressed-XOR: 38076; \n",
      "Len Compressed Original-XOR: 38859; Len Compressed Compressed-XOR: 36851; \n",
      "Len Compressed Original-XOR: 39528; Len Compressed Compressed-XOR: 38223; \n",
      "Len Compressed Original-XOR: 77425; Len Compressed Compressed-XOR: 38223; \n",
      "Len Compressed Original-XOR: 76708; Len Compressed Compressed-XOR: 36756; \n",
      "Len Compressed Original-XOR: 35810; Len Compressed Compressed-XOR: 36875; \n",
      "Len Compressed Original-XOR: 76385; Len Compressed Compressed-XOR: 36875; \n",
      "Len Compressed Original-XOR: 64367; Len Compressed Compressed-XOR: 34506; \n",
      "Len Compressed Original-XOR: 77062; Len Compressed Compressed-XOR: 37138; \n"
     ]
    }
   ],
   "source": [
    "get_diff_stats(sklearn_path, zlib.compress)"
   ]
  },
  {
   "cell_type": "code",
   "execution_count": null,
   "metadata": {},
   "outputs": [],
   "source": []
  }
 ],
 "metadata": {
  "kernelspec": {
   "display_name": ".venv",
   "language": "python",
   "name": "python3"
  },
  "language_info": {
   "codemirror_mode": {
    "name": "ipython",
    "version": 3
   },
   "file_extension": ".py",
   "mimetype": "text/x-python",
   "name": "python",
   "nbconvert_exporter": "python",
   "pygments_lexer": "ipython3",
   "version": "3.9.12"
  }
 },
 "nbformat": 4,
 "nbformat_minor": 2
}
