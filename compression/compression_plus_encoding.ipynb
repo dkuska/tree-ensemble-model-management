{
 "cells": [
  {
   "cell_type": "code",
   "execution_count": 1,
   "metadata": {},
   "outputs": [],
   "source": [
    "import os, sys\n",
    "import time\n",
    "import json\n",
    "\n",
    "from pprint import pprint\n",
    "from collections import defaultdict\n",
    "\n",
    "import matplotlib.pyplot as plt\n",
    "\n",
    "import bz2\n",
    "import gzip\n",
    "import zlib\n",
    "\n",
    "import avro.schema\n",
    "from avro.datafile import DataFileReader, DataFileWriter\n",
    "from avro.io import DatumReader, DatumWriter"
   ]
  },
  {
   "cell_type": "code",
   "execution_count": 2,
   "metadata": {},
   "outputs": [],
   "source": [
    "avro_schema = avro.schema.parse(\n",
    "    open(\n",
    "        \"/home/nano/projects/tree-ensemble-model-management/avro/xgboost.avsc\", \"rb\"\n",
    "    ).read()\n",
    ")"
   ]
  },
  {
   "cell_type": "code",
   "execution_count": 3,
   "metadata": {},
   "outputs": [],
   "source": [
    "xgboost_daily = (\n",
    "    \"/home/nano/projects/tree-ensemble-model-management/models/xgboost/daily\"\n",
    ")\n",
    "\n",
    "xgboost_5days = (\n",
    "    \"/home/nano/projects/tree-ensemble-model-management/models/xgboost/5days\"\n",
    ")"
   ]
  },
  {
   "cell_type": "code",
   "execution_count": 7,
   "metadata": {},
   "outputs": [],
   "source": [
    "def encoding_vs_compression(model_folder, compression_func):\n",
    "    compression_rates = {\"avro\": [], \"compressed\": [], \"avro+compressed\": []}\n",
    "\n",
    "    for model_file in os.listdir(model_folder):\n",
    "        model_path = os.path.join(model_folder, model_file)\n",
    "        with open(model_path, \"r\") as f:\n",
    "            model_json = json.load(f)\n",
    "\n",
    "        with open(model_path, \"rb\") as f:\n",
    "            model_binary = f.read()\n",
    "\n",
    "        original_size = os.path.getsize(model_path)\n",
    "\n",
    "        # AVRO\n",
    "        writer = DataFileWriter(open(\"model.avro\", \"wb\"), DatumWriter(), avro_schema)\n",
    "        writer.append(model_json)\n",
    "        writer.close()\n",
    "        avro_size = os.path.getsize(\"model.avro\")\n",
    "\n",
    "        # Compression\n",
    "        compressed_model = compression_func(model_binary)\n",
    "        with open(\"model.bin\", \"wb\") as f:\n",
    "            f.write(compressed_model)\n",
    "        compressed_size = os.path.getsize(\"model.bin\")\n",
    "\n",
    "        # Compression + AVRO\n",
    "        with open(\"model.bin\", \"rb\") as f:\n",
    "            avro_binary = f.read()\n",
    "        compressed_avro = compression_func(avro_binary)\n",
    "        with open(\"model_avro_compressed.bin\", \"wb\") as f:\n",
    "            f.write(compressed_avro)\n",
    "        compressed_avro_size = os.path.getsize(\"model_avro_compressed.bin\")\n",
    "\n",
    "        os.remove(\"model.avro\")\n",
    "        os.remove(\"model_avro_compressed.bin\")\n",
    "        os.remove(\"model.bin\")\n",
    "\n",
    "        avro_ratio = original_size / avro_size\n",
    "        compressed_ratio = original_size / compressed_size\n",
    "        compressed_avro_ratio = original_size / compressed_avro_size\n",
    "\n",
    "        compression_rates[\"avro\"].append(avro_ratio)\n",
    "        compression_rates[\"compressed\"].append(compressed_ratio)\n",
    "        compression_rates[\"avro+compressed\"].append(compressed_avro_ratio)\n",
    "\n",
    "    for key, rates in compression_rates.items():\n",
    "        compression_rates[key] = sum(rates) / len(rates)\n",
    "\n",
    "    return compression_rates"
   ]
  },
  {
   "cell_type": "code",
   "execution_count": 8,
   "metadata": {},
   "outputs": [
    {
     "name": "stdout",
     "output_type": "stream",
     "text": [
      "{'avro': 1.8961918401166984, 'compressed': 6.888617001336445, 'avro+compressed': 6.857327289494049}\n"
     ]
    }
   ],
   "source": [
    "compression_rates = encoding_vs_compression(xgboost_daily, bz2.compress)\n",
    "print(compression_rates)"
   ]
  },
  {
   "cell_type": "code",
   "execution_count": 9,
   "metadata": {},
   "outputs": [
    {
     "name": "stdout",
     "output_type": "stream",
     "text": [
      "{'avro': 1.9107413001045686, 'compressed': 6.6189130073585565, 'avro+compressed': 6.59103601638846}\n"
     ]
    }
   ],
   "source": [
    "compression_rates = encoding_vs_compression(xgboost_5days, bz2.compress)\n",
    "print(compression_rates)"
   ]
  },
  {
   "cell_type": "code",
   "execution_count": 10,
   "metadata": {},
   "outputs": [
    {
     "name": "stdout",
     "output_type": "stream",
     "text": [
      "{'avro': 1.8961918401166984, 'compressed': 5.669686765668213, 'avro+compressed': 5.693787775923223}\n"
     ]
    }
   ],
   "source": [
    "compression_rates = encoding_vs_compression(xgboost_daily, gzip.compress)\n",
    "print(compression_rates)"
   ]
  },
  {
   "cell_type": "code",
   "execution_count": 11,
   "metadata": {},
   "outputs": [
    {
     "name": "stdout",
     "output_type": "stream",
     "text": [
      "{'avro': 1.9107413001045686, 'compressed': 5.50347247214127, 'avro+compressed': 5.525603669509486}\n"
     ]
    }
   ],
   "source": [
    "compression_rates = encoding_vs_compression(xgboost_5days, gzip.compress)\n",
    "print(compression_rates)"
   ]
  },
  {
   "cell_type": "code",
   "execution_count": 12,
   "metadata": {},
   "outputs": [
    {
     "name": "stdout",
     "output_type": "stream",
     "text": [
      "{'avro': 1.8961918401166984, 'compressed': 5.520476168665319, 'avro+compressed': 5.543701008647218}\n"
     ]
    }
   ],
   "source": [
    "compression_rates = encoding_vs_compression(xgboost_daily, zlib.compress)\n",
    "print(compression_rates)"
   ]
  },
  {
   "cell_type": "code",
   "execution_count": 13,
   "metadata": {},
   "outputs": [
    {
     "name": "stdout",
     "output_type": "stream",
     "text": [
      "{'avro': 1.9107413001045686, 'compressed': 5.37702255641472, 'avro+compressed': 5.398432169563723}\n"
     ]
    }
   ],
   "source": [
    "compression_rates = encoding_vs_compression(xgboost_5days, zlib.compress)\n",
    "print(compression_rates)"
   ]
  },
  {
   "cell_type": "code",
   "execution_count": null,
   "metadata": {},
   "outputs": [],
   "source": []
  }
 ],
 "metadata": {
  "kernelspec": {
   "display_name": ".venv",
   "language": "python",
   "name": "python3"
  },
  "language_info": {
   "codemirror_mode": {
    "name": "ipython",
    "version": 3
   },
   "file_extension": ".py",
   "mimetype": "text/x-python",
   "name": "python",
   "nbconvert_exporter": "python",
   "pygments_lexer": "ipython3",
   "version": "3.9.12"
  }
 },
 "nbformat": 4,
 "nbformat_minor": 2
}
