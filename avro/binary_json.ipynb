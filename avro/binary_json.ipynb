{
 "cells": [
  {
   "cell_type": "code",
   "execution_count": 1,
   "metadata": {},
   "outputs": [
    {
     "name": "stdout",
     "output_type": "stream",
     "text": [
      "Requirement already satisfied: msgpack-python in /home/nano/projects/tree-ensemble-model-management/.venv/lib/python3.9/site-packages (0.5.6)\n",
      "Requirement already satisfied: bson in /home/nano/projects/tree-ensemble-model-management/.venv/lib/python3.9/site-packages (0.5.10)\n",
      "Requirement already satisfied: avro in /home/nano/projects/tree-ensemble-model-management/.venv/lib/python3.9/site-packages (1.11.3)\n",
      "Requirement already satisfied: python-dateutil>=2.4.0 in /home/nano/projects/tree-ensemble-model-management/.venv/lib/python3.9/site-packages (from bson) (2.8.2)\n",
      "Requirement already satisfied: six>=1.9.0 in /home/nano/projects/tree-ensemble-model-management/.venv/lib/python3.9/site-packages (from bson) (1.16.0)\n",
      "\u001b[33mWARNING: You are using pip version 22.0.4; however, version 23.3.2 is available.\n",
      "You should consider upgrading via the '/home/nano/projects/tree-ensemble-model-management/.venv/bin/python -m pip install --upgrade pip' command.\u001b[0m\u001b[33m\n",
      "\u001b[0mNote: you may need to restart the kernel to use updated packages.\n"
     ]
    }
   ],
   "source": [
    "%pip install msgpack-python bson avro"
   ]
  },
  {
   "cell_type": "code",
   "execution_count": 1,
   "metadata": {},
   "outputs": [],
   "source": [
    "import json\n",
    "import os, sys\n",
    "import time\n",
    "\n",
    "from collections import defaultdict\n",
    "\n",
    "import matplotlib.pyplot as plt\n",
    "\n",
    "import avro.schema\n",
    "from avro.datafile import DataFileReader, DataFileWriter\n",
    "from avro.io import DatumReader, DatumWriter\n",
    "import bson\n",
    "import msgpack"
   ]
  },
  {
   "cell_type": "code",
   "execution_count": 2,
   "metadata": {},
   "outputs": [
    {
     "data": {
      "text/plain": [
       "1104463"
      ]
     },
     "execution_count": 2,
     "metadata": {},
     "output_type": "execute_result"
    }
   ],
   "source": [
    "model_path = \"/home/nano/projects/tree-ensemble-model-management/models/xgboost/5days/xgboost_1000_trees_5days_2016-01-01_2016-01-05.json\"\n",
    "\n",
    "with open(model_path, \"r\") as f:\n",
    "    model_json = f.read()\n",
    "    original_size = sys.getsizeof(model_json)\n",
    "    model_json = json.loads(model_json)\n",
    "\n",
    "original_size"
   ]
  },
  {
   "cell_type": "code",
   "execution_count": 3,
   "metadata": {},
   "outputs": [],
   "source": [
    "def binary_json_test(model_folder):\n",
    "    pass\n",
    "    avro_schema = avro.schema.parse(open(\"xgboost.avsc\", \"rb\").read())\n",
    "\n",
    "    for model_file in os.listdir(model_folder):\n",
    "        model_path = os.path.join(model_folder, model_file)\n",
    "        with open(model_path, \"r\") as f:\n",
    "            model_str = f.read()\n",
    "            model_json = json.loads(model_str)\n",
    "        json_size = os.path.getsize(model_path)\n",
    "\n",
    "        # AVRO\n",
    "        writer = DataFileWriter(open(\"xgboost.avro\", \"wb\"), DatumWriter(), avro_schema)\n",
    "        writer.append(model_json)\n",
    "        writer.close()\n",
    "        avro_size = os.path.getsize(\"xgboost.avro\")\n",
    "        os.remove(\"xgboost.avro\")\n",
    "\n",
    "        # BSON\n",
    "        model_bson = bson.dumps(model_json)\n",
    "        # bson_size = sys.getsizeof(model_bson)\n",
    "        with open(\"xgboost.bson\", \"wb\") as f:\n",
    "            f.write(model_bson)\n",
    "        bson_size = os.path.getsize(\"xgboost.bson\")\n",
    "        os.remove(\"xgboost.bson\")\n",
    "\n",
    "        # MSGPACK\n",
    "        with open(\"xgboost.msgpack\", \"wb\") as outfile:\n",
    "            packed = msgpack.packb(model_json)\n",
    "            outfile.write(packed)\n",
    "        msgpack_size = os.path.getsize(\"xgboost.msgpack\")\n",
    "        os.remove(\"xgboost.msgpack\")\n",
    "\n",
    "        print(\n",
    "            f\"AVRO: {json_size/avro_size}, BSON: {json_size/bson_size}, MSGPACK: {json_size/msgpack_size}\"\n",
    "        )"
   ]
  },
  {
   "cell_type": "code",
   "execution_count": 4,
   "metadata": {},
   "outputs": [
    {
     "ename": "OSError",
     "evalue": "[Errno 36] File name too long: '{\"learner\":{\"attributes\":{},\"feature_names\":[\"VendorID\",\"passenger_count\",\"trip_distance\",\"pickup_longitude\",\"pickup_latitude\",\"RatecodeID\",\"dropoff_longitude\",\"dropoff_latitude\",\"payment_type\",\"fare_amount\",\"extra\",\"mta_tax\",\"tip_amount\",\"tolls_amount\",\"improvement_surcharge\"],\"feature_types\":[\"int\",\"int\",\"float\",\"float\",\"float\",\"int\",\"float\",\"float\",\"int\",\"float\",\"float\",\"float\",\"float\",\"float\",\"float\"],\"gradient_booster\":{\"model\":{\"gbtree_model_param\":{\"num_parallel_tree\":\"1\",\"num_trees\":\"4\"},\"iteration_indptr\":[0,1,2,3,4],\"tree_info\":[0,0,0,0],\"trees\":[{\"base_weights\":[-9.744096E-8,-3.5737128E0,3.0555943E1,-6.471515E0,3.6926315E0,2.1363813E1,5.1933735E1,-8.469394E-1,-4.2708173E-1,1.1782787E-1,8.1810105E-1,1.8063856E0,2.816834E0,4.667768E0,8.804813E0],\"categories\":[],\"categories_nodes\":[],\"categories_segments\":[],\"categories_sizes\":[],\"default_left\":[0,0,0,0,0,0,0,0,0,0,0,0,0,0,0],\"id\":0,\"left_children\":[1,3,5,7,9,11,13,-1,-1,-1,-1,-1,-1,-1,-1],\"loss_changes\":[3.7677624E7,6.5045655E6,7.098504E6,9.70938E5,9.9390375E5,5.66853E5,2.057898E6,0E0,0E0,0E0,0E0,0E0,0E0,0E0,0E0],\"parents\":[2147483647,0,0,1,1,2,2,3,3,4,4,5,5,6,6],\"right_children\":[2,4,6,8,10,12,14,-1,-1,-1,-1,-1,-1,-1,-1],\"split_conditions\":[2.45E1,1.2E1,4.55E1,7.5E0,1.75E1,3.3E1,6.35E1,-8.469394E-1,-4.2708173E-1,1.1782787E-1,8.1810105E-1,1.8063856E0,2.816834E0,4.667768E0,8.804813E0],\"split_indices\":[9,9,9,9,9,9,9,0,0,0,0,0,0,0,0],\"split_type\":[0,0,0,0,0,0,0,0,0,0,0,0,0,0,0],\"sum_hessian\":[3.45037E5,3.08909E5,3.6128E4,2.20839E5,8.807E4,2.5266E4,1.0862E4,1.15752E5,1.05087E5,5.6449E4,3.1621E4,1.7017E4,8.249E3,9.484E3,1.378E3],\"tree_param\":{\"num_deleted\":\"0\",\"num_feature\":\"15\",\"num_nodes\":\"15\",\"size_leaf_vector\":\"1\"}},{\"base_weights\":[-4.0382552E-1,-3.4983401E0,3.1615978E1,-5.6893945E0,3.5701036E0,2.0569475E1,4.540194E1,-7.422184E-1,-3.4065536E-1,1.545809E-1,8.4309447E-1,2.0512536E0,4.460368E1,4.1977234E0,7.594903E0],\"categories\":[],\"categories_nodes\":[],\"categories_segments\":[],\"categories_sizes\":[],\"default_left\":[0,0,0,0,0,0,0,0,0,0,0,0,0,0,0],\"id\":1,\"left_children\":[1,3,5,7,9,11,13,-1,-1,-1,-1,-1,-1,-1,-1],\"loss_changes\":[3.0997302E7,4.418002E6,4.197458E6,8.61376E5,6.641914E5,3.616715E5,1.279702E6,0E0,0E0,0E0,0E0,0E0,0E0,0E0,0E0],\"parents\":[2147483647,0,0,1,1,2,2,3,3,4,4,5,5,6,6],\"right_children\":[2,4,6,8,10,12,14,-1,-1,-1,-1,-1,-1,-1,-1],\"split_conditions\":[2.55E1,1.25E1,4.3E1,8E0,1.85E1,5.8E1,6.05E1,-7.422184E-1,-3.4065536E-1,1.545809E-1,8.4309447E-1,2.0512536E0,4.460368E1,4.1977234E0,7.594903E0],\"split_indices\":[9,9,9,9,9,13,9,0,0,0,0,0,0,0,0],\"split_type\":[0,0,0,0,0,0,0,0,0,0,0,0,0,0,0],\"sum_hessian\":[3.12831E5,2.85263E5,2.7568E4,2.17762E5,6.7501E4,1.5306E4,1.2262E4,1.23794E5,9.3968E4,4.7656E4,1.9845E4,1.5305E4,1E0,1.1028E4,1.234E3],\"tree_param\":{\"num_deleted\":\"0\",\"num_feature\":\"15\",\"num_nodes\":\"15\",\"size_leaf_vector\":\"1\"}},{\"base_weights\":[3.9977166E-1,-3.435491E0,2.6526438E1,-5.62217E0,1.8647931E0,1.8457357E1,4.2431896E1,-7.467398E-1,-4.3185288E-1,-9.661472E-3,5.514956E-1,1.5704933E0,2.666914E0,3.9610085E0,7.054313E0],\"categories\":[],\"categories_nodes\":[],\"categories_segments\":[],\"categories_sizes\":[],\"default_left\":[0,0,0,0,0,0,0,0,0,0,0,0,0,0,0],\"id\":2,\"left_children\":[1,3,5,7,9,11,13,-1,-1,-1,-1,-1,-1,-1,-1],\"loss_changes\":[3.0349362E7,3.0610508E6,4.97505E6,4.49734E5,5.5226675E5,5.80981E5,1.032234E6,0E0,0E0,0E0,0E0,0E0,0E0,0E0,0E0],\"parents\":[2147483647,0,0,1,1,2,2,3,3,4,4,5,5,6,6],\"right_children\":[2,4,6,8,10,12,14,-1,-1,-1,-1,-1,-1,-1,-1],\"split_conditions\":[2.35E1,1.1E1,4.75E1,6.5E0,1.6E1,6.96E0,6.4E1,-7.467398E-1,-4.3185288E-1,-9.661472E-3,5.514956E-1,1.5704933E0,2.666914E0,3.9610085E0,7.054313E0],\"split_indices\":[9,9,9,9,9,12,9,0,0,0,0,0,0,0,0],\"split_type\":[0,0,0,0,0,0,0,0,0,0,0,0,0,0,0],\"sum_hessian\":[3.02878E5,2.64109E5,3.8769E4,1.86972E5,7.7137E4,2.5722E4,1.3047E4,7.7405E4,1.09567E5,5.0176E4,2.6961E4,1.9267E4,6.455E3,1.1859E4,1.188E3],\"tree_param\":{\"num_deleted\":\"0\",\"num_feature\":\"15\",\"num_nodes\":\"15\",\"size_leaf_vector\":\"1\"}},{\"base_weights\":[-1.0553268E-1,-2.9206922E0,2.6746582E1,-4.757659E0,2.766944E0,1.8883564E1,3.7768154E1,-6.239266E-1,-3.2608894E-1,1.2737477E-1,8.4909815E-1,1.5797952E0,2.4737127E0,3.5081723E0,6.174927E0],\"categories\":[],\"categories_nodes\":[],\"categories_segments\":[],\"categories_sizes\":[],\"default_left\":[0,0,0,0,0,0,0,0,0,0,0,0,0,0,0],\"id\":3,\"left_children\":[1,3,5,7,9,11,13,-1,-1,-1,-1,-1,-1,-1,-1],\"loss_changes\":[2.3900466E7,2.9899268E6,2.599342E6,4.796715E5,5.971159E5,3.159075E5,8.0255E5,0E0,0E0,0E0,0E0,0E0,0E0,0E0,0E0],\"parents\":[2147483647,0,0,1,1,2,2,3,3,4,4,5,5,6,6],\"right_children\":[2,4,6,8,10,12,14,-1,-1,-1,-1,-1,-1,-1,-1],\"split_conditions\":[2.6E1,1.15E1,4.5E1,7E0,1.95E1,7E0,6E1,-6.239266E-1,-3.2608894E-1,1.2737477E-1,8.4909815E-1,1.5797952E0,2.4737127E0,3.5081723E0,6.174927E0],\"split_indices\":[9,9,9,9,9,12,9,0,0,0,0,0,0,0,0],\"split_type\":[0,0,0,0,0,0,0,0,0,0,0,0,0,0,0],\"sum_hessian\":[3.16171E5,2.8617E5,3.0001E4,2.16308E5,6.9862E4,1.7511E4,1.249E4,1.08703E5,1.07605E5,5.5409E4,1.4453E4,1.1469E4,6.042E3,1.1234E4,1.256E3],\"tree_param\":{\"num_deleted\":\"0\",\"num_feature\":\"15\",\"num_nodes\":\"15\",\"size_leaf_vector\":\"1\"}}]},\"name\":\"gbtree\"},\"learner_model_param\":{\"base_score\":\"1.564011E1\",\"boost_from_average\":\"1\",\"num_class\":\"0\",\"num_feature\":\"15\",\"num_target\":\"1\"},\"objective\":{\"name\":\"reg:squarederror\",\"reg_loss_param\":{\"scale_pos_weight\":\"1\"}}},\"version\":[2,0,2]}'",
     "output_type": "error",
     "traceback": [
      "\u001b[0;31m---------------------------------------------------------------------------\u001b[0m",
      "\u001b[0;31mOSError\u001b[0m                                   Traceback (most recent call last)",
      "Cell \u001b[0;32mIn[4], line 1\u001b[0m\n\u001b[0;32m----> 1\u001b[0m \u001b[43mbinary_json_test\u001b[49m\u001b[43m(\u001b[49m\n\u001b[1;32m      2\u001b[0m \u001b[43m    \u001b[49m\u001b[38;5;124;43m\"\u001b[39;49m\u001b[38;5;124;43m/home/nano/projects/tree-ensemble-model-management/models/xgboost/incremental\u001b[39;49m\u001b[38;5;124;43m\"\u001b[39;49m\n\u001b[1;32m      3\u001b[0m \u001b[43m)\u001b[49m\n",
      "Cell \u001b[0;32mIn[3], line 10\u001b[0m, in \u001b[0;36mbinary_json_test\u001b[0;34m(model_folder)\u001b[0m\n\u001b[1;32m      8\u001b[0m     model_str \u001b[38;5;241m=\u001b[39m f\u001b[38;5;241m.\u001b[39mread()\n\u001b[1;32m      9\u001b[0m     model_json \u001b[38;5;241m=\u001b[39m json\u001b[38;5;241m.\u001b[39mloads(model_str)\n\u001b[0;32m---> 10\u001b[0m json_size \u001b[38;5;241m=\u001b[39m \u001b[43mos\u001b[49m\u001b[38;5;241;43m.\u001b[39;49m\u001b[43mpath\u001b[49m\u001b[38;5;241;43m.\u001b[39;49m\u001b[43mgetsize\u001b[49m\u001b[43m(\u001b[49m\u001b[43mmodel_str\u001b[49m\u001b[43m)\u001b[49m\n\u001b[1;32m     12\u001b[0m \u001b[38;5;66;03m# AVRO\u001b[39;00m\n\u001b[1;32m     13\u001b[0m writer \u001b[38;5;241m=\u001b[39m DataFileWriter(\u001b[38;5;28mopen\u001b[39m(\u001b[38;5;124m\"\u001b[39m\u001b[38;5;124mxgboost.avro\u001b[39m\u001b[38;5;124m\"\u001b[39m, \u001b[38;5;124m\"\u001b[39m\u001b[38;5;124mwb\u001b[39m\u001b[38;5;124m\"\u001b[39m), DatumWriter(), avro_schema)\n",
      "File \u001b[0;32m~/anaconda3/lib/python3.9/genericpath.py:50\u001b[0m, in \u001b[0;36mgetsize\u001b[0;34m(filename)\u001b[0m\n\u001b[1;32m     48\u001b[0m \u001b[38;5;28;01mdef\u001b[39;00m \u001b[38;5;21mgetsize\u001b[39m(filename):\n\u001b[1;32m     49\u001b[0m \u001b[38;5;250m    \u001b[39m\u001b[38;5;124;03m\"\"\"Return the size of a file, reported by os.stat().\"\"\"\u001b[39;00m\n\u001b[0;32m---> 50\u001b[0m     \u001b[38;5;28;01mreturn\u001b[39;00m \u001b[43mos\u001b[49m\u001b[38;5;241;43m.\u001b[39;49m\u001b[43mstat\u001b[49m\u001b[43m(\u001b[49m\u001b[43mfilename\u001b[49m\u001b[43m)\u001b[49m\u001b[38;5;241m.\u001b[39mst_size\n",
      "\u001b[0;31mOSError\u001b[0m: [Errno 36] File name too long: '{\"learner\":{\"attributes\":{},\"feature_names\":[\"VendorID\",\"passenger_count\",\"trip_distance\",\"pickup_longitude\",\"pickup_latitude\",\"RatecodeID\",\"dropoff_longitude\",\"dropoff_latitude\",\"payment_type\",\"fare_amount\",\"extra\",\"mta_tax\",\"tip_amount\",\"tolls_amount\",\"improvement_surcharge\"],\"feature_types\":[\"int\",\"int\",\"float\",\"float\",\"float\",\"int\",\"float\",\"float\",\"int\",\"float\",\"float\",\"float\",\"float\",\"float\",\"float\"],\"gradient_booster\":{\"model\":{\"gbtree_model_param\":{\"num_parallel_tree\":\"1\",\"num_trees\":\"4\"},\"iteration_indptr\":[0,1,2,3,4],\"tree_info\":[0,0,0,0],\"trees\":[{\"base_weights\":[-9.744096E-8,-3.5737128E0,3.0555943E1,-6.471515E0,3.6926315E0,2.1363813E1,5.1933735E1,-8.469394E-1,-4.2708173E-1,1.1782787E-1,8.1810105E-1,1.8063856E0,2.816834E0,4.667768E0,8.804813E0],\"categories\":[],\"categories_nodes\":[],\"categories_segments\":[],\"categories_sizes\":[],\"default_left\":[0,0,0,0,0,0,0,0,0,0,0,0,0,0,0],\"id\":0,\"left_children\":[1,3,5,7,9,11,13,-1,-1,-1,-1,-1,-1,-1,-1],\"loss_changes\":[3.7677624E7,6.5045655E6,7.098504E6,9.70938E5,9.9390375E5,5.66853E5,2.057898E6,0E0,0E0,0E0,0E0,0E0,0E0,0E0,0E0],\"parents\":[2147483647,0,0,1,1,2,2,3,3,4,4,5,5,6,6],\"right_children\":[2,4,6,8,10,12,14,-1,-1,-1,-1,-1,-1,-1,-1],\"split_conditions\":[2.45E1,1.2E1,4.55E1,7.5E0,1.75E1,3.3E1,6.35E1,-8.469394E-1,-4.2708173E-1,1.1782787E-1,8.1810105E-1,1.8063856E0,2.816834E0,4.667768E0,8.804813E0],\"split_indices\":[9,9,9,9,9,9,9,0,0,0,0,0,0,0,0],\"split_type\":[0,0,0,0,0,0,0,0,0,0,0,0,0,0,0],\"sum_hessian\":[3.45037E5,3.08909E5,3.6128E4,2.20839E5,8.807E4,2.5266E4,1.0862E4,1.15752E5,1.05087E5,5.6449E4,3.1621E4,1.7017E4,8.249E3,9.484E3,1.378E3],\"tree_param\":{\"num_deleted\":\"0\",\"num_feature\":\"15\",\"num_nodes\":\"15\",\"size_leaf_vector\":\"1\"}},{\"base_weights\":[-4.0382552E-1,-3.4983401E0,3.1615978E1,-5.6893945E0,3.5701036E0,2.0569475E1,4.540194E1,-7.422184E-1,-3.4065536E-1,1.545809E-1,8.4309447E-1,2.0512536E0,4.460368E1,4.1977234E0,7.594903E0],\"categories\":[],\"categories_nodes\":[],\"categories_segments\":[],\"categories_sizes\":[],\"default_left\":[0,0,0,0,0,0,0,0,0,0,0,0,0,0,0],\"id\":1,\"left_children\":[1,3,5,7,9,11,13,-1,-1,-1,-1,-1,-1,-1,-1],\"loss_changes\":[3.0997302E7,4.418002E6,4.197458E6,8.61376E5,6.641914E5,3.616715E5,1.279702E6,0E0,0E0,0E0,0E0,0E0,0E0,0E0,0E0],\"parents\":[2147483647,0,0,1,1,2,2,3,3,4,4,5,5,6,6],\"right_children\":[2,4,6,8,10,12,14,-1,-1,-1,-1,-1,-1,-1,-1],\"split_conditions\":[2.55E1,1.25E1,4.3E1,8E0,1.85E1,5.8E1,6.05E1,-7.422184E-1,-3.4065536E-1,1.545809E-1,8.4309447E-1,2.0512536E0,4.460368E1,4.1977234E0,7.594903E0],\"split_indices\":[9,9,9,9,9,13,9,0,0,0,0,0,0,0,0],\"split_type\":[0,0,0,0,0,0,0,0,0,0,0,0,0,0,0],\"sum_hessian\":[3.12831E5,2.85263E5,2.7568E4,2.17762E5,6.7501E4,1.5306E4,1.2262E4,1.23794E5,9.3968E4,4.7656E4,1.9845E4,1.5305E4,1E0,1.1028E4,1.234E3],\"tree_param\":{\"num_deleted\":\"0\",\"num_feature\":\"15\",\"num_nodes\":\"15\",\"size_leaf_vector\":\"1\"}},{\"base_weights\":[3.9977166E-1,-3.435491E0,2.6526438E1,-5.62217E0,1.8647931E0,1.8457357E1,4.2431896E1,-7.467398E-1,-4.3185288E-1,-9.661472E-3,5.514956E-1,1.5704933E0,2.666914E0,3.9610085E0,7.054313E0],\"categories\":[],\"categories_nodes\":[],\"categories_segments\":[],\"categories_sizes\":[],\"default_left\":[0,0,0,0,0,0,0,0,0,0,0,0,0,0,0],\"id\":2,\"left_children\":[1,3,5,7,9,11,13,-1,-1,-1,-1,-1,-1,-1,-1],\"loss_changes\":[3.0349362E7,3.0610508E6,4.97505E6,4.49734E5,5.5226675E5,5.80981E5,1.032234E6,0E0,0E0,0E0,0E0,0E0,0E0,0E0,0E0],\"parents\":[2147483647,0,0,1,1,2,2,3,3,4,4,5,5,6,6],\"right_children\":[2,4,6,8,10,12,14,-1,-1,-1,-1,-1,-1,-1,-1],\"split_conditions\":[2.35E1,1.1E1,4.75E1,6.5E0,1.6E1,6.96E0,6.4E1,-7.467398E-1,-4.3185288E-1,-9.661472E-3,5.514956E-1,1.5704933E0,2.666914E0,3.9610085E0,7.054313E0],\"split_indices\":[9,9,9,9,9,12,9,0,0,0,0,0,0,0,0],\"split_type\":[0,0,0,0,0,0,0,0,0,0,0,0,0,0,0],\"sum_hessian\":[3.02878E5,2.64109E5,3.8769E4,1.86972E5,7.7137E4,2.5722E4,1.3047E4,7.7405E4,1.09567E5,5.0176E4,2.6961E4,1.9267E4,6.455E3,1.1859E4,1.188E3],\"tree_param\":{\"num_deleted\":\"0\",\"num_feature\":\"15\",\"num_nodes\":\"15\",\"size_leaf_vector\":\"1\"}},{\"base_weights\":[-1.0553268E-1,-2.9206922E0,2.6746582E1,-4.757659E0,2.766944E0,1.8883564E1,3.7768154E1,-6.239266E-1,-3.2608894E-1,1.2737477E-1,8.4909815E-1,1.5797952E0,2.4737127E0,3.5081723E0,6.174927E0],\"categories\":[],\"categories_nodes\":[],\"categories_segments\":[],\"categories_sizes\":[],\"default_left\":[0,0,0,0,0,0,0,0,0,0,0,0,0,0,0],\"id\":3,\"left_children\":[1,3,5,7,9,11,13,-1,-1,-1,-1,-1,-1,-1,-1],\"loss_changes\":[2.3900466E7,2.9899268E6,2.599342E6,4.796715E5,5.971159E5,3.159075E5,8.0255E5,0E0,0E0,0E0,0E0,0E0,0E0,0E0,0E0],\"parents\":[2147483647,0,0,1,1,2,2,3,3,4,4,5,5,6,6],\"right_children\":[2,4,6,8,10,12,14,-1,-1,-1,-1,-1,-1,-1,-1],\"split_conditions\":[2.6E1,1.15E1,4.5E1,7E0,1.95E1,7E0,6E1,-6.239266E-1,-3.2608894E-1,1.2737477E-1,8.4909815E-1,1.5797952E0,2.4737127E0,3.5081723E0,6.174927E0],\"split_indices\":[9,9,9,9,9,12,9,0,0,0,0,0,0,0,0],\"split_type\":[0,0,0,0,0,0,0,0,0,0,0,0,0,0,0],\"sum_hessian\":[3.16171E5,2.8617E5,3.0001E4,2.16308E5,6.9862E4,1.7511E4,1.249E4,1.08703E5,1.07605E5,5.5409E4,1.4453E4,1.1469E4,6.042E3,1.1234E4,1.256E3],\"tree_param\":{\"num_deleted\":\"0\",\"num_feature\":\"15\",\"num_nodes\":\"15\",\"size_leaf_vector\":\"1\"}}]},\"name\":\"gbtree\"},\"learner_model_param\":{\"base_score\":\"1.564011E1\",\"boost_from_average\":\"1\",\"num_class\":\"0\",\"num_feature\":\"15\",\"num_target\":\"1\"},\"objective\":{\"name\":\"reg:squarederror\",\"reg_loss_param\":{\"scale_pos_weight\":\"1\"}}},\"version\":[2,0,2]}'"
     ]
    }
   ],
   "source": [
    "binary_json_test(\n",
    "    \"/home/nano/projects/tree-ensemble-model-management/models/xgboost/incremental\"\n",
    ")"
   ]
  },
  {
   "cell_type": "code",
   "execution_count": null,
   "metadata": {},
   "outputs": [],
   "source": []
  }
 ],
 "metadata": {
  "kernelspec": {
   "display_name": ".venv",
   "language": "python",
   "name": "python3"
  },
  "language_info": {
   "codemirror_mode": {
    "name": "ipython",
    "version": 3
   },
   "file_extension": ".py",
   "mimetype": "text/x-python",
   "name": "python",
   "nbconvert_exporter": "python",
   "pygments_lexer": "ipython3",
   "version": "3.9.12"
  }
 },
 "nbformat": 4,
 "nbformat_minor": 2
}
