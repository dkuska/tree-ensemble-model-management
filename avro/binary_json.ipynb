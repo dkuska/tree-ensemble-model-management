{
 "cells": [
  {
   "cell_type": "code",
   "execution_count": 42,
   "metadata": {},
   "outputs": [
    {
     "name": "stdout",
     "output_type": "stream",
     "text": [
      "Requirement already satisfied: msgpack-python in /home/nano/projects/tree-ensemble-model-management/.venv/lib/python3.9/site-packages (0.5.6)\n",
      "Requirement already satisfied: bson in /home/nano/projects/tree-ensemble-model-management/.venv/lib/python3.9/site-packages (0.5.10)\n",
      "Requirement already satisfied: avro in /home/nano/projects/tree-ensemble-model-management/.venv/lib/python3.9/site-packages (1.11.3)\n",
      "Collecting msgpack-numpy\n",
      "  Downloading msgpack_numpy-0.4.8-py2.py3-none-any.whl (6.9 kB)\n",
      "Requirement already satisfied: python-dateutil>=2.4.0 in /home/nano/projects/tree-ensemble-model-management/.venv/lib/python3.9/site-packages (from bson) (2.8.2)\n",
      "Requirement already satisfied: six>=1.9.0 in /home/nano/projects/tree-ensemble-model-management/.venv/lib/python3.9/site-packages (from bson) (1.16.0)\n",
      "Collecting msgpack>=0.5.2\n",
      "  Using cached msgpack-1.0.7-cp39-cp39-manylinux_2_17_x86_64.manylinux2014_x86_64.whl (530 kB)\n",
      "Requirement already satisfied: numpy>=1.9.0 in /home/nano/projects/tree-ensemble-model-management/.venv/lib/python3.9/site-packages (from msgpack-numpy) (1.26.2)\n",
      "Installing collected packages: msgpack, msgpack-numpy\n",
      "Successfully installed msgpack-1.0.7 msgpack-numpy-0.4.8\n",
      "\u001b[33mWARNING: You are using pip version 22.0.4; however, version 23.3.2 is available.\n",
      "You should consider upgrading via the '/home/nano/projects/tree-ensemble-model-management/.venv/bin/python -m pip install --upgrade pip' command.\u001b[0m\u001b[33m\n",
      "\u001b[0mNote: you may need to restart the kernel to use updated packages.\n"
     ]
    }
   ],
   "source": [
    "%pip install msgpack-python bson avro msgpack-numpy"
   ]
  },
  {
   "cell_type": "code",
   "execution_count": 13,
   "metadata": {},
   "outputs": [],
   "source": [
    "import json\n",
    "import os\n",
    "\n",
    "import avro.schema\n",
    "from avro.datafile import DataFileReader, DataFileWriter\n",
    "from avro.io import DatumReader, DatumWriter\n",
    "import msgpack"
   ]
  },
  {
   "cell_type": "code",
   "execution_count": 16,
   "metadata": {},
   "outputs": [],
   "source": [
    "import math\n",
    "\n",
    "def mean_and_std(data):\n",
    "    # Calculate mean\n",
    "    mean = sum(data) / len(data)\n",
    "\n",
    "    # Calculate standard deviation\n",
    "    variance = sum((x - mean) ** 2 for x in data) / len(data)\n",
    "    std_dev = math.sqrt(variance)\n",
    "    \n",
    "    return mean, std_dev"
   ]
  },
  {
   "cell_type": "code",
   "execution_count": 17,
   "metadata": {},
   "outputs": [],
   "source": [
    "xgboost_path = \"/home/nano/projects/tree-ensemble-model-management/models/xgboost\"\n",
    "\n",
    "daily_path = xgboost_path + \"/daily\"\n",
    "daily_100 = daily_path + \"/100trees\"\n",
    "daily_1000 = daily_path + \"/1000trees\"\n",
    "daily_10000 = daily_path + \"/10000trees\"\n",
    "\n",
    "fivedays_path = xgboost_path + \"/5days\"\n",
    "fivedays_100 = fivedays_path + \"/100trees\"\n",
    "fivedays_1000 = fivedays_path + \"/1000trees\"\n",
    "fivedays_10000 = fivedays_path + \"/10000trees\""
   ]
  },
  {
   "cell_type": "code",
   "execution_count": 18,
   "metadata": {},
   "outputs": [],
   "source": [
    "import xgboost as xgb\n",
    "from time import time\n",
    "import json\n",
    "import timeit\n",
    "\n",
    "import xgboost as xgb\n",
    "import msgpack\n",
    "import tempfile\n",
    "\n",
    "from avro.datafile import DataFileReader\n",
    "from avro.io import DatumReader\n",
    "import tempfile\n",
    "\n",
    "import xgboost as xgb\n",
    "import avro.schema\n",
    "from avro.datafile import DataFileWriter\n",
    "from avro.io import DatumWriter"
   ]
  },
  {
   "cell_type": "code",
   "execution_count": 19,
   "metadata": {},
   "outputs": [],
   "source": [
    "def load_model_json(model_path):\n",
    "    booster = xgb.Booster()\n",
    "    booster.load_model(model_path)\n",
    "    return booster\n",
    "\n",
    "def save_model_json(booster, model_path):\n",
    "    booster.save_model(model_path)"
   ]
  },
  {
   "cell_type": "code",
   "execution_count": 57,
   "metadata": {},
   "outputs": [],
   "source": [
    "def save_model_avro(booster, model_path_avro, path_avro_schema=\"xgboost.avsc\"):\n",
    "    # Save the model to a temporary JSON file\n",
    "    temp_model_path = tempfile.mktemp(suffix=\".json\")\n",
    "    booster.save_model(temp_model_path)\n",
    "\n",
    "    # Read the JSON data from the temporary file\n",
    "    with open(temp_model_path, \"r\") as f:\n",
    "        model_json = json.load(f)\n",
    "\n",
    "    # Load Avro schema\n",
    "    avro_schema = avro.schema.parse(open(path_avro_schema, \"rb\").read())\n",
    "\n",
    "    # Write the JSON data to an Avro file\n",
    "    with open(model_path_avro, \"wb\") as avro_file:\n",
    "        with DataFileWriter(avro_file, DatumWriter(), avro_schema) as writer:\n",
    "            writer.append(model_json)\n",
    "\n",
    "\n",
    "def load_model_avro(model_path_avro):\n",
    "    # Read from Avro file\n",
    "    with open(model_path_avro, \"rb\") as avro_file:\n",
    "        with DataFileReader(avro_file, DatumReader()) as reader:\n",
    "            for record in reader:\n",
    "                model = record\n",
    "\n",
    "    # Temporarily save the binary data to a file\n",
    "    temp_model_path = tempfile.mktemp()\n",
    "    with open(temp_model_path, \"w\") as f:\n",
    "        json.dump(model, f)\n",
    "\n",
    "    # Load the model using the temporary file\n",
    "    booster = xgb.Booster()\n",
    "    booster.load_model(temp_model_path)\n",
    "    return booster"
   ]
  },
  {
   "cell_type": "code",
   "execution_count": 53,
   "metadata": {},
   "outputs": [],
   "source": [
    "def save_model_msgpack(booster, model_path_msgpack):\n",
    "    # Serialize the booster object directly to a byte stream\n",
    "    model_bytearray = booster.save_raw()\n",
    "\n",
    "    # Pack the byte stream using MessagePack\n",
    "    packed = msgpack.packb(model_bytearray)\n",
    "\n",
    "    # Write the packed data to a file\n",
    "    with open(model_path_msgpack, \"wb\") as outfile:\n",
    "        outfile.write(packed)\n",
    "\n",
    "def load_model_msgpack(model_path_msgpack):\n",
    "    # Read and unpack the MessagePack data\n",
    "    with open(model_path_msgpack, \"rb\") as f:\n",
    "        packed_data = f.read()\n",
    "    model_bytearray = msgpack.unpackb(packed_data)\n",
    "\n",
    "    # Temporarily save the binary data to a file\n",
    "    temp_model_path = tempfile.mktemp()\n",
    "    with open(temp_model_path, \"wb\") as f:\n",
    "        f.write(model_bytearray)\n",
    "\n",
    "    # Load the model using the temporary file\n",
    "    booster = xgb.Booster()\n",
    "    booster.load_model(temp_model_path)\n",
    "    return booster"
   ]
  },
  {
   "cell_type": "code",
   "execution_count": 58,
   "metadata": {},
   "outputs": [],
   "source": [
    "def get_metrics(model_dir):\n",
    "    dt_json_load = []\n",
    "    dt_json_save = []\n",
    "    json_sizes = []\n",
    "    dt_avro_load = []\n",
    "    dt_avro_save = []\n",
    "    avro_sizes = []\n",
    "    dt_msgpack_load = []\n",
    "    dt_msgpack_save = []\n",
    "    msgpack_sizes = []\n",
    "\n",
    "    for model_file in os.listdir(model_dir):\n",
    "        model_path = os.path.join(model_dir, model_file)\n",
    "\n",
    "        # JSON\n",
    "        # Load\n",
    "        t0 = time()\n",
    "        booster = load_model_json(model_path)\n",
    "        dt_json_load.append(time() - t0)\n",
    "\n",
    "        # Save\n",
    "        t0 = time()\n",
    "        save_model_json(booster, model_path)\n",
    "        dt_json_save.append(time() - t0)\n",
    "\n",
    "        # Size\n",
    "        json_sizes.append(os.path.getsize(model_path))\n",
    "\n",
    "        # AVRO\n",
    "        # Save\n",
    "        avro_path = \"test.avro\"\n",
    "        t0 = time()\n",
    "        save_model_avro(booster, avro_path)\n",
    "        dt_avro_save.append(time() - t0)\n",
    "\n",
    "        # Load\n",
    "        t0 = time()\n",
    "        load_model_avro(avro_path)\n",
    "        dt_avro_load.append(time() - t0)\n",
    "\n",
    "        # Size\n",
    "        avro_sizes.append(os.path.getsize(avro_path))\n",
    "        os.remove(avro_path)\n",
    "\n",
    "        # MSGPACK\n",
    "        msgpack_path = \"test.msgpack\"\n",
    "        # Save\n",
    "        t0 = time()\n",
    "        save_model_msgpack(booster, msgpack_path)\n",
    "        dt_msgpack_save.append(time() - t0)\n",
    "\n",
    "        # # Load\n",
    "        t0 = time()\n",
    "        msgpack_booster = load_model_msgpack(msgpack_path)\n",
    "        dt_msgpack_load.append(time() - t0)\n",
    "\n",
    "        # Size\n",
    "        msgpack_sizes.append(os.path.getsize(msgpack_path))\n",
    "        os.remove(msgpack_path)\n",
    "\n",
    "    # Evaluation\n",
    "    # Load\n",
    "    json_mean, json_std = mean_and_std(dt_json_load)\n",
    "    avro_mean, avro_std = mean_and_std(dt_avro_load)\n",
    "    msgpack_mean, msgpack_std = mean_and_std(dt_msgpack_load)\n",
    "    print(\n",
    "        f\"JSON: {json_mean} +- {json_std}; AVRO: {avro_mean} +- {avro_std}: MsgPack: {msgpack_mean} +- {msgpack_std}\"\n",
    "    )\n",
    "    # Save\n",
    "    json_mean, json_std = mean_and_std(dt_json_save)\n",
    "    avro_mean, avro_std = mean_and_std(dt_avro_save)\n",
    "    msgpack_mean, msgpack_std = mean_and_std(dt_msgpack_save)\n",
    "    print(\n",
    "        f\"JSON: {json_mean} +- {json_std}; AVRO: {avro_mean} +- {avro_std}: MsgPack: {msgpack_mean} +- {msgpack_std}\"\n",
    "    )\n",
    "    # Size\n",
    "    json_mean, json_std = mean_and_std(json_sizes)\n",
    "    avro_mean, avro_std = mean_and_std(avro_sizes)\n",
    "    msgpack_mean, msgpack_std = mean_and_std(msgpack_sizes)\n",
    "    print(\n",
    "        f\"JSON: {json_mean} +- {json_std}; AVRO: {avro_mean} +- {avro_std}: MsgPack: {msgpack_mean} +- {msgpack_std}\"\n",
    "    )"
   ]
  },
  {
   "cell_type": "code",
   "execution_count": 59,
   "metadata": {},
   "outputs": [
    {
     "name": "stderr",
     "output_type": "stream",
     "text": [
      "/home/nano/projects/tree-ensemble-model-management/.venv/lib/python3.9/site-packages/xgboost/core.py:160: UserWarning: [21:45:48] WARNING: /workspace/src/c_api/c_api.cc:1240: Saving into deprecated binary model format, please consider using `json` or `ubj`. Model format will default to JSON in XGBoost 2.2 if not specified.\n",
      "  warnings.warn(smsg, UserWarning)\n",
      "/home/nano/projects/tree-ensemble-model-management/.venv/lib/python3.9/site-packages/xgboost/core.py:160: UserWarning: [21:45:49] WARNING: /workspace/src/c_api/c_api.cc:1240: Saving into deprecated binary model format, please consider using `json` or `ubj`. Model format will default to JSON in XGBoost 2.2 if not specified.\n",
      "  warnings.warn(smsg, UserWarning)\n",
      "/home/nano/projects/tree-ensemble-model-management/.venv/lib/python3.9/site-packages/xgboost/core.py:160: UserWarning: [21:45:50] WARNING: /workspace/src/c_api/c_api.cc:1240: Saving into deprecated binary model format, please consider using `json` or `ubj`. Model format will default to JSON in XGBoost 2.2 if not specified.\n",
      "  warnings.warn(smsg, UserWarning)\n",
      "/home/nano/projects/tree-ensemble-model-management/.venv/lib/python3.9/site-packages/xgboost/core.py:160: UserWarning: [21:45:51] WARNING: /workspace/src/c_api/c_api.cc:1240: Saving into deprecated binary model format, please consider using `json` or `ubj`. Model format will default to JSON in XGBoost 2.2 if not specified.\n",
      "  warnings.warn(smsg, UserWarning)\n",
      "/home/nano/projects/tree-ensemble-model-management/.venv/lib/python3.9/site-packages/xgboost/core.py:160: UserWarning: [21:45:52] WARNING: /workspace/src/c_api/c_api.cc:1240: Saving into deprecated binary model format, please consider using `json` or `ubj`. Model format will default to JSON in XGBoost 2.2 if not specified.\n",
      "  warnings.warn(smsg, UserWarning)\n"
     ]
    },
    {
     "name": "stdout",
     "output_type": "stream",
     "text": [
      "JSON: 0.006000472653296686 +- 0.0031863884951864475; AVRO: 0.05663604890146563 +- 0.006889361100828236: MsgPack: 0.0009072365299347908 +- 0.00011541351150931733\n",
      "JSON: 0.00447799313452936 +- 0.003593799125430099; AVRO: 0.06876660931494928 +- 0.02166959174812385: MsgPack: 0.00060287598640688 +- 0.0004617794673667119\n",
      "JSON: 106012.87096774194 +- 3172.877606516098; AVRO: 58621.67741935484 +- 2272.6995655599894: MsgPack: 64061.967741935485 +- 2147.8749210274727\n"
     ]
    },
    {
     "name": "stderr",
     "output_type": "stream",
     "text": [
      "/home/nano/projects/tree-ensemble-model-management/.venv/lib/python3.9/site-packages/xgboost/core.py:160: UserWarning: [21:45:53] WARNING: /workspace/src/c_api/c_api.cc:1240: Saving into deprecated binary model format, please consider using `json` or `ubj`. Model format will default to JSON in XGBoost 2.2 if not specified.\n",
      "  warnings.warn(smsg, UserWarning)\n"
     ]
    }
   ],
   "source": [
    "get_metrics(daily_100)\n"
   ]
  },
  {
   "cell_type": "code",
   "execution_count": 34,
   "metadata": {},
   "outputs": [
    {
     "name": "stdout",
     "output_type": "stream",
     "text": [
      "JSON: 0.024463799691969348 +- 0.004038995372208485; AVRO: 0.676363468170166 +- 0.09830436931241641: MsgPack: 0.17586958792901808 +- 0.0396373045414616\n",
      "JSON: 1027167.7419354839 +- 65128.09421636705; AVRO: 543157.5161290322 +- 49329.47228052968: MsgPack: 848130.3548387097 +- 54502.096297978205\n"
     ]
    }
   ],
   "source": [
    "get_metrics(daily_1000)"
   ]
  },
  {
   "cell_type": "code",
   "execution_count": 35,
   "metadata": {},
   "outputs": [
    {
     "ename": "KeyboardInterrupt",
     "evalue": "",
     "output_type": "error",
     "traceback": [
      "\u001b[0;31m---------------------------------------------------------------------------\u001b[0m",
      "\u001b[0;31mKeyboardInterrupt\u001b[0m                         Traceback (most recent call last)",
      "Cell \u001b[0;32mIn[35], line 1\u001b[0m\n\u001b[0;32m----> 1\u001b[0m \u001b[43mget_metrics\u001b[49m\u001b[43m(\u001b[49m\u001b[43mdaily_10000\u001b[49m\u001b[43m)\u001b[49m\n",
      "Cell \u001b[0;32mIn[32], line 38\u001b[0m, in \u001b[0;36mget_metrics\u001b[0;34m(model_dir)\u001b[0m\n\u001b[1;32m     36\u001b[0m \u001b[38;5;66;03m# Load\u001b[39;00m\n\u001b[1;32m     37\u001b[0m t0 \u001b[38;5;241m=\u001b[39m time()\n\u001b[0;32m---> 38\u001b[0m \u001b[43mload_model_avro\u001b[49m\u001b[43m(\u001b[49m\u001b[43mavro_path\u001b[49m\u001b[43m)\u001b[49m\n\u001b[1;32m     39\u001b[0m dt_avro_load\u001b[38;5;241m.\u001b[39mappend(time() \u001b[38;5;241m-\u001b[39m t0)\n\u001b[1;32m     41\u001b[0m \u001b[38;5;66;03m# Size\u001b[39;00m\n",
      "Cell \u001b[0;32mIn[17], line 14\u001b[0m, in \u001b[0;36mload_model_avro\u001b[0;34m(model_path_avro)\u001b[0m\n\u001b[1;32m     11\u001b[0m \u001b[38;5;28;01mdef\u001b[39;00m \u001b[38;5;21mload_model_avro\u001b[39m(model_path_avro):\n\u001b[1;32m     12\u001b[0m     \u001b[38;5;66;03m# avro_schema = avro.schema.parse(open(path_avro_schema, \"rb\").read())\u001b[39;00m\n\u001b[1;32m     13\u001b[0m     reader \u001b[38;5;241m=\u001b[39m DataFileReader(\u001b[38;5;28mopen\u001b[39m(model_path_avro, \u001b[38;5;124m\"\u001b[39m\u001b[38;5;124mrb\u001b[39m\u001b[38;5;124m\"\u001b[39m), DatumReader())\n\u001b[0;32m---> 14\u001b[0m     \u001b[38;5;28;01mfor\u001b[39;00m model \u001b[38;5;129;01min\u001b[39;00m reader:\n\u001b[1;32m     15\u001b[0m         \u001b[38;5;28;01mwith\u001b[39;00m \u001b[38;5;28mopen\u001b[39m(\u001b[38;5;124m\"\u001b[39m\u001b[38;5;124mmodel.json\u001b[39m\u001b[38;5;124m\"\u001b[39m, \u001b[38;5;124m\"\u001b[39m\u001b[38;5;124mw\u001b[39m\u001b[38;5;124m\"\u001b[39m) \u001b[38;5;28;01mas\u001b[39;00m f:\n\u001b[1;32m     16\u001b[0m             json\u001b[38;5;241m.\u001b[39mdump(model, f)\n",
      "File \u001b[0;32m~/projects/tree-ensemble-model-management/.venv/lib/python3.9/site-packages/avro/datafile.py:408\u001b[0m, in \u001b[0;36mDataFileReader.__next__\u001b[0;34m(self)\u001b[0m\n\u001b[1;32m    406\u001b[0m \u001b[38;5;28;01mif\u001b[39;00m \u001b[38;5;28mself\u001b[39m\u001b[38;5;241m.\u001b[39mdatum_decoder \u001b[38;5;129;01mis\u001b[39;00m \u001b[38;5;28;01mNone\u001b[39;00m:\n\u001b[1;32m    407\u001b[0m     \u001b[38;5;28;01mraise\u001b[39;00m avro\u001b[38;5;241m.\u001b[39merrors\u001b[38;5;241m.\u001b[39mDataFileException(\u001b[38;5;124m\"\u001b[39m\u001b[38;5;124mDataFile is not ready to read because it has no decoder\u001b[39m\u001b[38;5;124m\"\u001b[39m)\n\u001b[0;32m--> 408\u001b[0m datum \u001b[38;5;241m=\u001b[39m \u001b[38;5;28;43mself\u001b[39;49m\u001b[38;5;241;43m.\u001b[39;49m\u001b[43mdatum_reader\u001b[49m\u001b[38;5;241;43m.\u001b[39;49m\u001b[43mread\u001b[49m\u001b[43m(\u001b[49m\u001b[38;5;28;43mself\u001b[39;49m\u001b[38;5;241;43m.\u001b[39;49m\u001b[43mdatum_decoder\u001b[49m\u001b[43m)\u001b[49m\n\u001b[1;32m    409\u001b[0m \u001b[38;5;28mself\u001b[39m\u001b[38;5;241m.\u001b[39mblock_count \u001b[38;5;241m-\u001b[39m\u001b[38;5;241m=\u001b[39m \u001b[38;5;241m1\u001b[39m\n\u001b[1;32m    410\u001b[0m \u001b[38;5;28;01mreturn\u001b[39;00m datum\n",
      "File \u001b[0;32m~/projects/tree-ensemble-model-management/.venv/lib/python3.9/site-packages/avro/io.py:649\u001b[0m, in \u001b[0;36mDatumReader.read\u001b[0;34m(self, decoder)\u001b[0m\n\u001b[1;32m    647\u001b[0m \u001b[38;5;28;01mif\u001b[39;00m \u001b[38;5;28mself\u001b[39m\u001b[38;5;241m.\u001b[39mreaders_schema \u001b[38;5;129;01mis\u001b[39;00m \u001b[38;5;28;01mNone\u001b[39;00m:\n\u001b[1;32m    648\u001b[0m     \u001b[38;5;28mself\u001b[39m\u001b[38;5;241m.\u001b[39mreaders_schema \u001b[38;5;241m=\u001b[39m \u001b[38;5;28mself\u001b[39m\u001b[38;5;241m.\u001b[39mwriters_schema\n\u001b[0;32m--> 649\u001b[0m \u001b[38;5;28;01mreturn\u001b[39;00m \u001b[38;5;28;43mself\u001b[39;49m\u001b[38;5;241;43m.\u001b[39;49m\u001b[43mread_data\u001b[49m\u001b[43m(\u001b[49m\u001b[38;5;28;43mself\u001b[39;49m\u001b[38;5;241;43m.\u001b[39;49m\u001b[43mwriters_schema\u001b[49m\u001b[43m,\u001b[49m\u001b[43m \u001b[49m\u001b[38;5;28;43mself\u001b[39;49m\u001b[38;5;241;43m.\u001b[39;49m\u001b[43mreaders_schema\u001b[49m\u001b[43m,\u001b[49m\u001b[43m \u001b[49m\u001b[43mdecoder\u001b[49m\u001b[43m)\u001b[49m\n",
      "File \u001b[0;32m~/projects/tree-ensemble-model-management/.venv/lib/python3.9/site-packages/avro/io.py:727\u001b[0m, in \u001b[0;36mDatumReader.read_data\u001b[0;34m(self, writers_schema, readers_schema, decoder)\u001b[0m\n\u001b[1;32m    724\u001b[0m     \u001b[38;5;28;01mreturn\u001b[39;00m \u001b[38;5;28mself\u001b[39m\u001b[38;5;241m.\u001b[39mread_map(writers_schema, readers_schema, decoder)\n\u001b[1;32m    725\u001b[0m \u001b[38;5;28;01mif\u001b[39;00m \u001b[38;5;28misinstance\u001b[39m(writers_schema, avro\u001b[38;5;241m.\u001b[39mschema\u001b[38;5;241m.\u001b[39mRecordSchema) \u001b[38;5;129;01mand\u001b[39;00m \u001b[38;5;28misinstance\u001b[39m(readers_schema, avro\u001b[38;5;241m.\u001b[39mschema\u001b[38;5;241m.\u001b[39mRecordSchema):\n\u001b[1;32m    726\u001b[0m     \u001b[38;5;66;03m# .type in [\"record\", \"error\", \"request\"]:\u001b[39;00m\n\u001b[0;32m--> 727\u001b[0m     \u001b[38;5;28;01mreturn\u001b[39;00m \u001b[38;5;28;43mself\u001b[39;49m\u001b[38;5;241;43m.\u001b[39;49m\u001b[43mread_record\u001b[49m\u001b[43m(\u001b[49m\u001b[43mwriters_schema\u001b[49m\u001b[43m,\u001b[49m\u001b[43m \u001b[49m\u001b[43mreaders_schema\u001b[49m\u001b[43m,\u001b[49m\u001b[43m \u001b[49m\u001b[43mdecoder\u001b[49m\u001b[43m)\u001b[49m\n\u001b[1;32m    728\u001b[0m \u001b[38;5;28;01mraise\u001b[39;00m avro\u001b[38;5;241m.\u001b[39merrors\u001b[38;5;241m.\u001b[39mAvroException(\u001b[38;5;124mf\u001b[39m\u001b[38;5;124m\"\u001b[39m\u001b[38;5;124mCannot read unknown schema type: \u001b[39m\u001b[38;5;132;01m{\u001b[39;00mwriters_schema\u001b[38;5;241m.\u001b[39mtype\u001b[38;5;132;01m}\u001b[39;00m\u001b[38;5;124m\"\u001b[39m)\n",
      "File \u001b[0;32m~/projects/tree-ensemble-model-management/.venv/lib/python3.9/site-packages/avro/io.py:922\u001b[0m, in \u001b[0;36mDatumReader.read_record\u001b[0;34m(self, writers_schema, readers_schema, decoder)\u001b[0m\n\u001b[1;32m    920\u001b[0m readers_field \u001b[38;5;241m=\u001b[39m readers_fields_dict\u001b[38;5;241m.\u001b[39mget(field\u001b[38;5;241m.\u001b[39mname)\n\u001b[1;32m    921\u001b[0m \u001b[38;5;28;01mif\u001b[39;00m readers_field \u001b[38;5;129;01mis\u001b[39;00m \u001b[38;5;129;01mnot\u001b[39;00m \u001b[38;5;28;01mNone\u001b[39;00m:\n\u001b[0;32m--> 922\u001b[0m     field_val \u001b[38;5;241m=\u001b[39m \u001b[38;5;28;43mself\u001b[39;49m\u001b[38;5;241;43m.\u001b[39;49m\u001b[43mread_data\u001b[49m\u001b[43m(\u001b[49m\u001b[43mfield\u001b[49m\u001b[38;5;241;43m.\u001b[39;49m\u001b[43mtype\u001b[49m\u001b[43m,\u001b[49m\u001b[43m \u001b[49m\u001b[43mreaders_field\u001b[49m\u001b[38;5;241;43m.\u001b[39;49m\u001b[43mtype\u001b[49m\u001b[43m,\u001b[49m\u001b[43m \u001b[49m\u001b[43mdecoder\u001b[49m\u001b[43m)\u001b[49m\n\u001b[1;32m    923\u001b[0m     read_record[field\u001b[38;5;241m.\u001b[39mname] \u001b[38;5;241m=\u001b[39m field_val\n\u001b[1;32m    924\u001b[0m \u001b[38;5;28;01melse\u001b[39;00m:\n",
      "File \u001b[0;32m~/projects/tree-ensemble-model-management/.venv/lib/python3.9/site-packages/avro/io.py:727\u001b[0m, in \u001b[0;36mDatumReader.read_data\u001b[0;34m(self, writers_schema, readers_schema, decoder)\u001b[0m\n\u001b[1;32m    724\u001b[0m     \u001b[38;5;28;01mreturn\u001b[39;00m \u001b[38;5;28mself\u001b[39m\u001b[38;5;241m.\u001b[39mread_map(writers_schema, readers_schema, decoder)\n\u001b[1;32m    725\u001b[0m \u001b[38;5;28;01mif\u001b[39;00m \u001b[38;5;28misinstance\u001b[39m(writers_schema, avro\u001b[38;5;241m.\u001b[39mschema\u001b[38;5;241m.\u001b[39mRecordSchema) \u001b[38;5;129;01mand\u001b[39;00m \u001b[38;5;28misinstance\u001b[39m(readers_schema, avro\u001b[38;5;241m.\u001b[39mschema\u001b[38;5;241m.\u001b[39mRecordSchema):\n\u001b[1;32m    726\u001b[0m     \u001b[38;5;66;03m# .type in [\"record\", \"error\", \"request\"]:\u001b[39;00m\n\u001b[0;32m--> 727\u001b[0m     \u001b[38;5;28;01mreturn\u001b[39;00m \u001b[38;5;28;43mself\u001b[39;49m\u001b[38;5;241;43m.\u001b[39;49m\u001b[43mread_record\u001b[49m\u001b[43m(\u001b[49m\u001b[43mwriters_schema\u001b[49m\u001b[43m,\u001b[49m\u001b[43m \u001b[49m\u001b[43mreaders_schema\u001b[49m\u001b[43m,\u001b[49m\u001b[43m \u001b[49m\u001b[43mdecoder\u001b[49m\u001b[43m)\u001b[49m\n\u001b[1;32m    728\u001b[0m \u001b[38;5;28;01mraise\u001b[39;00m avro\u001b[38;5;241m.\u001b[39merrors\u001b[38;5;241m.\u001b[39mAvroException(\u001b[38;5;124mf\u001b[39m\u001b[38;5;124m\"\u001b[39m\u001b[38;5;124mCannot read unknown schema type: \u001b[39m\u001b[38;5;132;01m{\u001b[39;00mwriters_schema\u001b[38;5;241m.\u001b[39mtype\u001b[38;5;132;01m}\u001b[39;00m\u001b[38;5;124m\"\u001b[39m)\n",
      "File \u001b[0;32m~/projects/tree-ensemble-model-management/.venv/lib/python3.9/site-packages/avro/io.py:922\u001b[0m, in \u001b[0;36mDatumReader.read_record\u001b[0;34m(self, writers_schema, readers_schema, decoder)\u001b[0m\n\u001b[1;32m    920\u001b[0m readers_field \u001b[38;5;241m=\u001b[39m readers_fields_dict\u001b[38;5;241m.\u001b[39mget(field\u001b[38;5;241m.\u001b[39mname)\n\u001b[1;32m    921\u001b[0m \u001b[38;5;28;01mif\u001b[39;00m readers_field \u001b[38;5;129;01mis\u001b[39;00m \u001b[38;5;129;01mnot\u001b[39;00m \u001b[38;5;28;01mNone\u001b[39;00m:\n\u001b[0;32m--> 922\u001b[0m     field_val \u001b[38;5;241m=\u001b[39m \u001b[38;5;28;43mself\u001b[39;49m\u001b[38;5;241;43m.\u001b[39;49m\u001b[43mread_data\u001b[49m\u001b[43m(\u001b[49m\u001b[43mfield\u001b[49m\u001b[38;5;241;43m.\u001b[39;49m\u001b[43mtype\u001b[49m\u001b[43m,\u001b[49m\u001b[43m \u001b[49m\u001b[43mreaders_field\u001b[49m\u001b[38;5;241;43m.\u001b[39;49m\u001b[43mtype\u001b[49m\u001b[43m,\u001b[49m\u001b[43m \u001b[49m\u001b[43mdecoder\u001b[49m\u001b[43m)\u001b[49m\n\u001b[1;32m    923\u001b[0m     read_record[field\u001b[38;5;241m.\u001b[39mname] \u001b[38;5;241m=\u001b[39m field_val\n\u001b[1;32m    924\u001b[0m \u001b[38;5;28;01melse\u001b[39;00m:\n",
      "    \u001b[0;31m[... skipping similar frames: DatumReader.read_data at line 727 (1 times), DatumReader.read_record at line 922 (1 times)]\u001b[0m\n",
      "File \u001b[0;32m~/projects/tree-ensemble-model-management/.venv/lib/python3.9/site-packages/avro/io.py:727\u001b[0m, in \u001b[0;36mDatumReader.read_data\u001b[0;34m(self, writers_schema, readers_schema, decoder)\u001b[0m\n\u001b[1;32m    724\u001b[0m     \u001b[38;5;28;01mreturn\u001b[39;00m \u001b[38;5;28mself\u001b[39m\u001b[38;5;241m.\u001b[39mread_map(writers_schema, readers_schema, decoder)\n\u001b[1;32m    725\u001b[0m \u001b[38;5;28;01mif\u001b[39;00m \u001b[38;5;28misinstance\u001b[39m(writers_schema, avro\u001b[38;5;241m.\u001b[39mschema\u001b[38;5;241m.\u001b[39mRecordSchema) \u001b[38;5;129;01mand\u001b[39;00m \u001b[38;5;28misinstance\u001b[39m(readers_schema, avro\u001b[38;5;241m.\u001b[39mschema\u001b[38;5;241m.\u001b[39mRecordSchema):\n\u001b[1;32m    726\u001b[0m     \u001b[38;5;66;03m# .type in [\"record\", \"error\", \"request\"]:\u001b[39;00m\n\u001b[0;32m--> 727\u001b[0m     \u001b[38;5;28;01mreturn\u001b[39;00m \u001b[38;5;28;43mself\u001b[39;49m\u001b[38;5;241;43m.\u001b[39;49m\u001b[43mread_record\u001b[49m\u001b[43m(\u001b[49m\u001b[43mwriters_schema\u001b[49m\u001b[43m,\u001b[49m\u001b[43m \u001b[49m\u001b[43mreaders_schema\u001b[49m\u001b[43m,\u001b[49m\u001b[43m \u001b[49m\u001b[43mdecoder\u001b[49m\u001b[43m)\u001b[49m\n\u001b[1;32m    728\u001b[0m \u001b[38;5;28;01mraise\u001b[39;00m avro\u001b[38;5;241m.\u001b[39merrors\u001b[38;5;241m.\u001b[39mAvroException(\u001b[38;5;124mf\u001b[39m\u001b[38;5;124m\"\u001b[39m\u001b[38;5;124mCannot read unknown schema type: \u001b[39m\u001b[38;5;132;01m{\u001b[39;00mwriters_schema\u001b[38;5;241m.\u001b[39mtype\u001b[38;5;132;01m}\u001b[39;00m\u001b[38;5;124m\"\u001b[39m)\n",
      "File \u001b[0;32m~/projects/tree-ensemble-model-management/.venv/lib/python3.9/site-packages/avro/io.py:922\u001b[0m, in \u001b[0;36mDatumReader.read_record\u001b[0;34m(self, writers_schema, readers_schema, decoder)\u001b[0m\n\u001b[1;32m    920\u001b[0m readers_field \u001b[38;5;241m=\u001b[39m readers_fields_dict\u001b[38;5;241m.\u001b[39mget(field\u001b[38;5;241m.\u001b[39mname)\n\u001b[1;32m    921\u001b[0m \u001b[38;5;28;01mif\u001b[39;00m readers_field \u001b[38;5;129;01mis\u001b[39;00m \u001b[38;5;129;01mnot\u001b[39;00m \u001b[38;5;28;01mNone\u001b[39;00m:\n\u001b[0;32m--> 922\u001b[0m     field_val \u001b[38;5;241m=\u001b[39m \u001b[38;5;28;43mself\u001b[39;49m\u001b[38;5;241;43m.\u001b[39;49m\u001b[43mread_data\u001b[49m\u001b[43m(\u001b[49m\u001b[43mfield\u001b[49m\u001b[38;5;241;43m.\u001b[39;49m\u001b[43mtype\u001b[49m\u001b[43m,\u001b[49m\u001b[43m \u001b[49m\u001b[43mreaders_field\u001b[49m\u001b[38;5;241;43m.\u001b[39;49m\u001b[43mtype\u001b[49m\u001b[43m,\u001b[49m\u001b[43m \u001b[49m\u001b[43mdecoder\u001b[49m\u001b[43m)\u001b[49m\n\u001b[1;32m    923\u001b[0m     read_record[field\u001b[38;5;241m.\u001b[39mname] \u001b[38;5;241m=\u001b[39m field_val\n\u001b[1;32m    924\u001b[0m \u001b[38;5;28;01melse\u001b[39;00m:\n",
      "File \u001b[0;32m~/projects/tree-ensemble-model-management/.venv/lib/python3.9/site-packages/avro/io.py:722\u001b[0m, in \u001b[0;36mDatumReader.read_data\u001b[0;34m(self, writers_schema, readers_schema, decoder)\u001b[0m\n\u001b[1;32m    720\u001b[0m     \u001b[38;5;28;01mreturn\u001b[39;00m \u001b[38;5;28mself\u001b[39m\u001b[38;5;241m.\u001b[39mread_enum(writers_schema, readers_schema, decoder)\n\u001b[1;32m    721\u001b[0m \u001b[38;5;28;01mif\u001b[39;00m \u001b[38;5;28misinstance\u001b[39m(writers_schema, avro\u001b[38;5;241m.\u001b[39mschema\u001b[38;5;241m.\u001b[39mArraySchema) \u001b[38;5;129;01mand\u001b[39;00m \u001b[38;5;28misinstance\u001b[39m(readers_schema, avro\u001b[38;5;241m.\u001b[39mschema\u001b[38;5;241m.\u001b[39mArraySchema):\n\u001b[0;32m--> 722\u001b[0m     \u001b[38;5;28;01mreturn\u001b[39;00m \u001b[38;5;28;43mself\u001b[39;49m\u001b[38;5;241;43m.\u001b[39;49m\u001b[43mread_array\u001b[49m\u001b[43m(\u001b[49m\u001b[43mwriters_schema\u001b[49m\u001b[43m,\u001b[49m\u001b[43m \u001b[49m\u001b[43mreaders_schema\u001b[49m\u001b[43m,\u001b[49m\u001b[43m \u001b[49m\u001b[43mdecoder\u001b[49m\u001b[43m)\u001b[49m\n\u001b[1;32m    723\u001b[0m \u001b[38;5;28;01mif\u001b[39;00m \u001b[38;5;28misinstance\u001b[39m(writers_schema, avro\u001b[38;5;241m.\u001b[39mschema\u001b[38;5;241m.\u001b[39mMapSchema) \u001b[38;5;129;01mand\u001b[39;00m \u001b[38;5;28misinstance\u001b[39m(readers_schema, avro\u001b[38;5;241m.\u001b[39mschema\u001b[38;5;241m.\u001b[39mMapSchema):\n\u001b[1;32m    724\u001b[0m     \u001b[38;5;28;01mreturn\u001b[39;00m \u001b[38;5;28mself\u001b[39m\u001b[38;5;241m.\u001b[39mread_map(writers_schema, readers_schema, decoder)\n",
      "File \u001b[0;32m~/projects/tree-ensemble-model-management/.venv/lib/python3.9/site-packages/avro/io.py:815\u001b[0m, in \u001b[0;36mDatumReader.read_array\u001b[0;34m(self, writers_schema, readers_schema, decoder)\u001b[0m\n\u001b[1;32m    813\u001b[0m         block_size \u001b[38;5;241m=\u001b[39m decoder\u001b[38;5;241m.\u001b[39mread_long()\n\u001b[1;32m    814\u001b[0m     \u001b[38;5;28;01mfor\u001b[39;00m i \u001b[38;5;129;01min\u001b[39;00m \u001b[38;5;28mrange\u001b[39m(block_count):\n\u001b[0;32m--> 815\u001b[0m         read_items\u001b[38;5;241m.\u001b[39mappend(\u001b[38;5;28;43mself\u001b[39;49m\u001b[38;5;241;43m.\u001b[39;49m\u001b[43mread_data\u001b[49m\u001b[43m(\u001b[49m\u001b[43mwriters_schema\u001b[49m\u001b[38;5;241;43m.\u001b[39;49m\u001b[43mitems\u001b[49m\u001b[43m,\u001b[49m\u001b[43m \u001b[49m\u001b[43mreaders_schema\u001b[49m\u001b[38;5;241;43m.\u001b[39;49m\u001b[43mitems\u001b[49m\u001b[43m,\u001b[49m\u001b[43m \u001b[49m\u001b[43mdecoder\u001b[49m\u001b[43m)\u001b[49m)\n\u001b[1;32m    816\u001b[0m     block_count \u001b[38;5;241m=\u001b[39m decoder\u001b[38;5;241m.\u001b[39mread_long()\n\u001b[1;32m    817\u001b[0m \u001b[38;5;28;01mreturn\u001b[39;00m read_items\n",
      "File \u001b[0;32m~/projects/tree-ensemble-model-management/.venv/lib/python3.9/site-packages/avro/io.py:727\u001b[0m, in \u001b[0;36mDatumReader.read_data\u001b[0;34m(self, writers_schema, readers_schema, decoder)\u001b[0m\n\u001b[1;32m    724\u001b[0m     \u001b[38;5;28;01mreturn\u001b[39;00m \u001b[38;5;28mself\u001b[39m\u001b[38;5;241m.\u001b[39mread_map(writers_schema, readers_schema, decoder)\n\u001b[1;32m    725\u001b[0m \u001b[38;5;28;01mif\u001b[39;00m \u001b[38;5;28misinstance\u001b[39m(writers_schema, avro\u001b[38;5;241m.\u001b[39mschema\u001b[38;5;241m.\u001b[39mRecordSchema) \u001b[38;5;129;01mand\u001b[39;00m \u001b[38;5;28misinstance\u001b[39m(readers_schema, avro\u001b[38;5;241m.\u001b[39mschema\u001b[38;5;241m.\u001b[39mRecordSchema):\n\u001b[1;32m    726\u001b[0m     \u001b[38;5;66;03m# .type in [\"record\", \"error\", \"request\"]:\u001b[39;00m\n\u001b[0;32m--> 727\u001b[0m     \u001b[38;5;28;01mreturn\u001b[39;00m \u001b[38;5;28;43mself\u001b[39;49m\u001b[38;5;241;43m.\u001b[39;49m\u001b[43mread_record\u001b[49m\u001b[43m(\u001b[49m\u001b[43mwriters_schema\u001b[49m\u001b[43m,\u001b[49m\u001b[43m \u001b[49m\u001b[43mreaders_schema\u001b[49m\u001b[43m,\u001b[49m\u001b[43m \u001b[49m\u001b[43mdecoder\u001b[49m\u001b[43m)\u001b[49m\n\u001b[1;32m    728\u001b[0m \u001b[38;5;28;01mraise\u001b[39;00m avro\u001b[38;5;241m.\u001b[39merrors\u001b[38;5;241m.\u001b[39mAvroException(\u001b[38;5;124mf\u001b[39m\u001b[38;5;124m\"\u001b[39m\u001b[38;5;124mCannot read unknown schema type: \u001b[39m\u001b[38;5;132;01m{\u001b[39;00mwriters_schema\u001b[38;5;241m.\u001b[39mtype\u001b[38;5;132;01m}\u001b[39;00m\u001b[38;5;124m\"\u001b[39m)\n",
      "File \u001b[0;32m~/projects/tree-ensemble-model-management/.venv/lib/python3.9/site-packages/avro/io.py:922\u001b[0m, in \u001b[0;36mDatumReader.read_record\u001b[0;34m(self, writers_schema, readers_schema, decoder)\u001b[0m\n\u001b[1;32m    920\u001b[0m readers_field \u001b[38;5;241m=\u001b[39m readers_fields_dict\u001b[38;5;241m.\u001b[39mget(field\u001b[38;5;241m.\u001b[39mname)\n\u001b[1;32m    921\u001b[0m \u001b[38;5;28;01mif\u001b[39;00m readers_field \u001b[38;5;129;01mis\u001b[39;00m \u001b[38;5;129;01mnot\u001b[39;00m \u001b[38;5;28;01mNone\u001b[39;00m:\n\u001b[0;32m--> 922\u001b[0m     field_val \u001b[38;5;241m=\u001b[39m \u001b[38;5;28;43mself\u001b[39;49m\u001b[38;5;241;43m.\u001b[39;49m\u001b[43mread_data\u001b[49m\u001b[43m(\u001b[49m\u001b[43mfield\u001b[49m\u001b[38;5;241;43m.\u001b[39;49m\u001b[43mtype\u001b[49m\u001b[43m,\u001b[49m\u001b[43m \u001b[49m\u001b[43mreaders_field\u001b[49m\u001b[38;5;241;43m.\u001b[39;49m\u001b[43mtype\u001b[49m\u001b[43m,\u001b[49m\u001b[43m \u001b[49m\u001b[43mdecoder\u001b[49m\u001b[43m)\u001b[49m\n\u001b[1;32m    923\u001b[0m     read_record[field\u001b[38;5;241m.\u001b[39mname] \u001b[38;5;241m=\u001b[39m field_val\n\u001b[1;32m    924\u001b[0m \u001b[38;5;28;01melse\u001b[39;00m:\n",
      "File \u001b[0;32m~/projects/tree-ensemble-model-management/.venv/lib/python3.9/site-packages/avro/io.py:722\u001b[0m, in \u001b[0;36mDatumReader.read_data\u001b[0;34m(self, writers_schema, readers_schema, decoder)\u001b[0m\n\u001b[1;32m    720\u001b[0m     \u001b[38;5;28;01mreturn\u001b[39;00m \u001b[38;5;28mself\u001b[39m\u001b[38;5;241m.\u001b[39mread_enum(writers_schema, readers_schema, decoder)\n\u001b[1;32m    721\u001b[0m \u001b[38;5;28;01mif\u001b[39;00m \u001b[38;5;28misinstance\u001b[39m(writers_schema, avro\u001b[38;5;241m.\u001b[39mschema\u001b[38;5;241m.\u001b[39mArraySchema) \u001b[38;5;129;01mand\u001b[39;00m \u001b[38;5;28misinstance\u001b[39m(readers_schema, avro\u001b[38;5;241m.\u001b[39mschema\u001b[38;5;241m.\u001b[39mArraySchema):\n\u001b[0;32m--> 722\u001b[0m     \u001b[38;5;28;01mreturn\u001b[39;00m \u001b[38;5;28;43mself\u001b[39;49m\u001b[38;5;241;43m.\u001b[39;49m\u001b[43mread_array\u001b[49m\u001b[43m(\u001b[49m\u001b[43mwriters_schema\u001b[49m\u001b[43m,\u001b[49m\u001b[43m \u001b[49m\u001b[43mreaders_schema\u001b[49m\u001b[43m,\u001b[49m\u001b[43m \u001b[49m\u001b[43mdecoder\u001b[49m\u001b[43m)\u001b[49m\n\u001b[1;32m    723\u001b[0m \u001b[38;5;28;01mif\u001b[39;00m \u001b[38;5;28misinstance\u001b[39m(writers_schema, avro\u001b[38;5;241m.\u001b[39mschema\u001b[38;5;241m.\u001b[39mMapSchema) \u001b[38;5;129;01mand\u001b[39;00m \u001b[38;5;28misinstance\u001b[39m(readers_schema, avro\u001b[38;5;241m.\u001b[39mschema\u001b[38;5;241m.\u001b[39mMapSchema):\n\u001b[1;32m    724\u001b[0m     \u001b[38;5;28;01mreturn\u001b[39;00m \u001b[38;5;28mself\u001b[39m\u001b[38;5;241m.\u001b[39mread_map(writers_schema, readers_schema, decoder)\n",
      "File \u001b[0;32m~/projects/tree-ensemble-model-management/.venv/lib/python3.9/site-packages/avro/io.py:815\u001b[0m, in \u001b[0;36mDatumReader.read_array\u001b[0;34m(self, writers_schema, readers_schema, decoder)\u001b[0m\n\u001b[1;32m    813\u001b[0m         block_size \u001b[38;5;241m=\u001b[39m decoder\u001b[38;5;241m.\u001b[39mread_long()\n\u001b[1;32m    814\u001b[0m     \u001b[38;5;28;01mfor\u001b[39;00m i \u001b[38;5;129;01min\u001b[39;00m \u001b[38;5;28mrange\u001b[39m(block_count):\n\u001b[0;32m--> 815\u001b[0m         read_items\u001b[38;5;241m.\u001b[39mappend(\u001b[38;5;28mself\u001b[39m\u001b[38;5;241m.\u001b[39mread_data(\u001b[43mwriters_schema\u001b[49m\u001b[38;5;241;43m.\u001b[39;49m\u001b[43mitems\u001b[49m, readers_schema\u001b[38;5;241m.\u001b[39mitems, decoder))\n\u001b[1;32m    816\u001b[0m     block_count \u001b[38;5;241m=\u001b[39m decoder\u001b[38;5;241m.\u001b[39mread_long()\n\u001b[1;32m    817\u001b[0m \u001b[38;5;28;01mreturn\u001b[39;00m read_items\n",
      "File \u001b[0;32m~/projects/tree-ensemble-model-management/.venv/lib/python3.9/site-packages/avro/schema.py:727\u001b[0m, in \u001b[0;36mArraySchema.<lambda>\u001b[0;34m(self)\u001b[0m\n\u001b[1;32m    724\u001b[0m     \u001b[38;5;28mself\u001b[39m\u001b[38;5;241m.\u001b[39mset_prop(\u001b[38;5;124m\"\u001b[39m\u001b[38;5;124mitems\u001b[39m\u001b[38;5;124m\"\u001b[39m, items_schema)\n\u001b[1;32m    726\u001b[0m \u001b[38;5;66;03m# read-only properties\u001b[39;00m\n\u001b[0;32m--> 727\u001b[0m items \u001b[38;5;241m=\u001b[39m \u001b[38;5;28mproperty\u001b[39m(\u001b[38;5;28;01mlambda\u001b[39;00m \u001b[38;5;28mself\u001b[39m: \u001b[38;5;28;43mself\u001b[39;49m\u001b[38;5;241;43m.\u001b[39;49m\u001b[43mget_prop\u001b[49m\u001b[43m(\u001b[49m\u001b[38;5;124;43m\"\u001b[39;49m\u001b[38;5;124;43mitems\u001b[39;49m\u001b[38;5;124;43m\"\u001b[39;49m\u001b[43m)\u001b[49m)\n\u001b[1;32m    729\u001b[0m \u001b[38;5;28;01mdef\u001b[39;00m \u001b[38;5;21mmatch\u001b[39m(\u001b[38;5;28mself\u001b[39m, writer):\n\u001b[1;32m    730\u001b[0m \u001b[38;5;250m    \u001b[39m\u001b[38;5;124;03m\"\"\"Return True if the current schema (as reader) matches the writer schema.\u001b[39;00m\n\u001b[1;32m    731\u001b[0m \n\u001b[1;32m    732\u001b[0m \u001b[38;5;124;03m    @arg writer: the schema to match against\u001b[39;00m\n\u001b[1;32m    733\u001b[0m \u001b[38;5;124;03m    @return bool\u001b[39;00m\n\u001b[1;32m    734\u001b[0m \u001b[38;5;124;03m    \"\"\"\u001b[39;00m\n",
      "File \u001b[0;32m~/projects/tree-ensemble-model-management/.venv/lib/python3.9/site-packages/avro/schema.py:180\u001b[0m, in \u001b[0;36mPropertiesMixin.get_prop\u001b[0;34m(self, key)\u001b[0m\n\u001b[1;32m    179\u001b[0m \u001b[38;5;28;01mdef\u001b[39;00m \u001b[38;5;21mget_prop\u001b[39m(\u001b[38;5;28mself\u001b[39m, key: \u001b[38;5;28mstr\u001b[39m) \u001b[38;5;241m-\u001b[39m\u001b[38;5;241m>\u001b[39m Optional[\u001b[38;5;28mobject\u001b[39m]:\n\u001b[0;32m--> 180\u001b[0m     \u001b[38;5;28;01mreturn\u001b[39;00m \u001b[38;5;28;43mself\u001b[39;49m\u001b[38;5;241;43m.\u001b[39;49m\u001b[43mprops\u001b[49m\u001b[38;5;241m.\u001b[39mget(key)\n",
      "File \u001b[0;32m~/projects/tree-ensemble-model-management/.venv/lib/python3.9/site-packages/avro/schema.py:175\u001b[0m, in \u001b[0;36mPropertiesMixin.props\u001b[0;34m(self)\u001b[0m\n\u001b[1;32m    173\u001b[0m \u001b[38;5;129m@property\u001b[39m\n\u001b[1;32m    174\u001b[0m \u001b[38;5;28;01mdef\u001b[39;00m \u001b[38;5;21mprops\u001b[39m(\u001b[38;5;28mself\u001b[39m) \u001b[38;5;241m-\u001b[39m\u001b[38;5;241m>\u001b[39m MutableMapping[\u001b[38;5;28mstr\u001b[39m, \u001b[38;5;28mobject\u001b[39m]:\n\u001b[0;32m--> 175\u001b[0m     \u001b[38;5;28;01mif\u001b[39;00m \u001b[38;5;28;43mself\u001b[39;49m\u001b[38;5;241;43m.\u001b[39;49m\u001b[43m_props\u001b[49m \u001b[38;5;129;01mis\u001b[39;00m \u001b[38;5;28;01mNone\u001b[39;00m:\n\u001b[1;32m    176\u001b[0m         \u001b[38;5;28mself\u001b[39m\u001b[38;5;241m.\u001b[39m_props \u001b[38;5;241m=\u001b[39m {}\n\u001b[1;32m    177\u001b[0m     \u001b[38;5;28;01mreturn\u001b[39;00m \u001b[38;5;28mself\u001b[39m\u001b[38;5;241m.\u001b[39m_props\n",
      "\u001b[0;31mKeyboardInterrupt\u001b[0m: "
     ]
    }
   ],
   "source": [
    "get_metrics(daily_10000)"
   ]
  },
  {
   "cell_type": "code",
   "execution_count": null,
   "metadata": {},
   "outputs": [],
   "source": []
  }
 ],
 "metadata": {
  "kernelspec": {
   "display_name": ".venv",
   "language": "python",
   "name": "python3"
  },
  "language_info": {
   "codemirror_mode": {
    "name": "ipython",
    "version": 3
   },
   "file_extension": ".py",
   "mimetype": "text/x-python",
   "name": "python",
   "nbconvert_exporter": "python",
   "pygments_lexer": "ipython3",
   "version": "3.9.12"
  }
 },
 "nbformat": 4,
 "nbformat_minor": 2
}
