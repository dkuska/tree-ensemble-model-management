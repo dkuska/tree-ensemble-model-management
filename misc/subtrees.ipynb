{
 "cells": [
  {
   "cell_type": "code",
   "execution_count": 1,
   "metadata": {},
   "outputs": [],
   "source": [
    "import json\n",
    "import pickle\n",
    "import treelite"
   ]
  },
  {
   "cell_type": "code",
   "execution_count": 2,
   "metadata": {},
   "outputs": [],
   "source": [
    "model_path = (\n",
    "    \"models/sklearn/daily/10_trees/sklearn_alternative_10_trees_daily_2016-01-01.pkl\"\n",
    ")"
   ]
  },
  {
   "cell_type": "code",
   "execution_count": 3,
   "metadata": {},
   "outputs": [],
   "source": [
    "with open(model_path, \"rb\") as f:\n",
    "    model = pickle.load(f)\n",
    "\n",
    "# Load Model into Treelite\n",
    "treelite_model = treelite.sklearn.import_model(model)\n",
    "# Load JSON Representation\n",
    "treelite_model_json = json.loads(\n",
    "    treelite_model.dump_as_json(pretty_print=False)\n",
    ")"
   ]
  },
  {
   "cell_type": "code",
   "execution_count": 18,
   "metadata": {},
   "outputs": [
    {
     "ename": "KeyError",
     "evalue": "3",
     "output_type": "error",
     "traceback": [
      "\u001b[0;31m---------------------------------------------------------------------------\u001b[0m",
      "\u001b[0;31mKeyError\u001b[0m                                  Traceback (most recent call last)",
      "Cell \u001b[0;32mIn[18], line 100\u001b[0m\n\u001b[1;32m     87\u001b[0m \u001b[38;5;66;03m# Example usage:\u001b[39;00m\n\u001b[1;32m     88\u001b[0m \u001b[38;5;66;03m# json_data = [\u001b[39;00m\n\u001b[1;32m     89\u001b[0m \u001b[38;5;66;03m#     {\"node_id\": 0, \"left_child\": 1, \"right_child\": 2},\u001b[39;00m\n\u001b[0;32m   (...)\u001b[0m\n\u001b[1;32m     95\u001b[0m \u001b[38;5;66;03m#     {\"node_id\": 6, \"left_child\": None, \"right_child\": None},\u001b[39;00m\n\u001b[1;32m     96\u001b[0m \u001b[38;5;66;03m# ]\u001b[39;00m\n\u001b[1;32m     98\u001b[0m tree_nodes \u001b[38;5;241m=\u001b[39m build_tree_from_json(treelite_model_json[\u001b[38;5;124m\"\u001b[39m\u001b[38;5;124mtrees\u001b[39m\u001b[38;5;124m\"\u001b[39m][\u001b[38;5;241m0\u001b[39m][\u001b[38;5;124m\"\u001b[39m\u001b[38;5;124mnodes\u001b[39m\u001b[38;5;124m\"\u001b[39m][:\u001b[38;5;241m3\u001b[39m])\n\u001b[0;32m--> 100\u001b[0m all_subtrees \u001b[38;5;241m=\u001b[39m \u001b[43mget_subtrees\u001b[49m\u001b[43m(\u001b[49m\u001b[43mtree_nodes\u001b[49m\u001b[43m)\u001b[49m\n\u001b[1;32m    101\u001b[0m \u001b[38;5;28mprint\u001b[39m(\u001b[38;5;124m\"\u001b[39m\u001b[38;5;124mAll possible subtrees:\u001b[39m\u001b[38;5;124m\"\u001b[39m)\n\u001b[1;32m    102\u001b[0m \u001b[38;5;28;01mfor\u001b[39;00m subtree \u001b[38;5;129;01min\u001b[39;00m all_subtrees:\n",
      "Cell \u001b[0;32mIn[18], line 83\u001b[0m, in \u001b[0;36mget_subtrees\u001b[0;34m(nodes)\u001b[0m\n\u001b[1;32m     80\u001b[0m     all_subtrees\u001b[38;5;241m.\u001b[39mextend(node_subtrees)\n\u001b[1;32m     81\u001b[0m     \u001b[38;5;28;01mreturn\u001b[39;00m node_subtrees\n\u001b[0;32m---> 83\u001b[0m \u001b[43mtraverse\u001b[49m\u001b[43m(\u001b[49m\u001b[38;5;241;43m0\u001b[39;49m\u001b[43m)\u001b[49m  \u001b[38;5;66;03m# Start traversal from the root node (assuming root is at node_id 0)\u001b[39;00m\n\u001b[1;32m     84\u001b[0m \u001b[38;5;28;01mreturn\u001b[39;00m all_subtrees\n",
      "Cell \u001b[0;32mIn[18], line 67\u001b[0m, in \u001b[0;36mget_subtrees.<locals>.traverse\u001b[0;34m(node_id)\u001b[0m\n\u001b[1;32m     64\u001b[0m \u001b[38;5;28;01mif\u001b[39;00m node_id \u001b[38;5;129;01mis\u001b[39;00m \u001b[38;5;28;01mNone\u001b[39;00m:\n\u001b[1;32m     65\u001b[0m     \u001b[38;5;28;01mreturn\u001b[39;00m [\u001b[38;5;28;01mNone\u001b[39;00m]\n\u001b[0;32m---> 67\u001b[0m left_subtrees \u001b[38;5;241m=\u001b[39m \u001b[43mtraverse\u001b[49m\u001b[43m(\u001b[49m\u001b[43mnodes\u001b[49m\u001b[43m[\u001b[49m\u001b[43mnode_id\u001b[49m\u001b[43m]\u001b[49m\u001b[38;5;241;43m.\u001b[39;49m\u001b[43mleft_child\u001b[49m\u001b[43m)\u001b[49m\n\u001b[1;32m     68\u001b[0m right_subtrees \u001b[38;5;241m=\u001b[39m traverse(nodes[node_id]\u001b[38;5;241m.\u001b[39mright_child)\n\u001b[1;32m     70\u001b[0m node_subtrees \u001b[38;5;241m=\u001b[39m []\n",
      "Cell \u001b[0;32mIn[18], line 67\u001b[0m, in \u001b[0;36mget_subtrees.<locals>.traverse\u001b[0;34m(node_id)\u001b[0m\n\u001b[1;32m     64\u001b[0m \u001b[38;5;28;01mif\u001b[39;00m node_id \u001b[38;5;129;01mis\u001b[39;00m \u001b[38;5;28;01mNone\u001b[39;00m:\n\u001b[1;32m     65\u001b[0m     \u001b[38;5;28;01mreturn\u001b[39;00m [\u001b[38;5;28;01mNone\u001b[39;00m]\n\u001b[0;32m---> 67\u001b[0m left_subtrees \u001b[38;5;241m=\u001b[39m \u001b[43mtraverse\u001b[49m\u001b[43m(\u001b[49m\u001b[43mnodes\u001b[49m\u001b[43m[\u001b[49m\u001b[43mnode_id\u001b[49m\u001b[43m]\u001b[49m\u001b[38;5;241;43m.\u001b[39;49m\u001b[43mleft_child\u001b[49m\u001b[43m)\u001b[49m\n\u001b[1;32m     68\u001b[0m right_subtrees \u001b[38;5;241m=\u001b[39m traverse(nodes[node_id]\u001b[38;5;241m.\u001b[39mright_child)\n\u001b[1;32m     70\u001b[0m node_subtrees \u001b[38;5;241m=\u001b[39m []\n",
      "Cell \u001b[0;32mIn[18], line 67\u001b[0m, in \u001b[0;36mget_subtrees.<locals>.traverse\u001b[0;34m(node_id)\u001b[0m\n\u001b[1;32m     64\u001b[0m \u001b[38;5;28;01mif\u001b[39;00m node_id \u001b[38;5;129;01mis\u001b[39;00m \u001b[38;5;28;01mNone\u001b[39;00m:\n\u001b[1;32m     65\u001b[0m     \u001b[38;5;28;01mreturn\u001b[39;00m [\u001b[38;5;28;01mNone\u001b[39;00m]\n\u001b[0;32m---> 67\u001b[0m left_subtrees \u001b[38;5;241m=\u001b[39m traverse(\u001b[43mnodes\u001b[49m\u001b[43m[\u001b[49m\u001b[43mnode_id\u001b[49m\u001b[43m]\u001b[49m\u001b[38;5;241m.\u001b[39mleft_child)\n\u001b[1;32m     68\u001b[0m right_subtrees \u001b[38;5;241m=\u001b[39m traverse(nodes[node_id]\u001b[38;5;241m.\u001b[39mright_child)\n\u001b[1;32m     70\u001b[0m node_subtrees \u001b[38;5;241m=\u001b[39m []\n",
      "\u001b[0;31mKeyError\u001b[0m: 3"
     ]
    }
   ],
   "source": [
    "class Node:\n",
    "    def __init__(\n",
    "        self,\n",
    "        node_id,\n",
    "        split_feature_id,\n",
    "        default_left,\n",
    "        split_type,\n",
    "        comparison_op,\n",
    "        threshold,\n",
    "        left_child,\n",
    "        right_child,\n",
    "        data_count,\n",
    "        sum_hess,\n",
    "        gain,\n",
    "    ):\n",
    "        self.node_id = node_id\n",
    "        self.split_feature_id = split_feature_id\n",
    "        self.default_left = default_left\n",
    "        self.split_type = split_type\n",
    "        self.comparison_op = comparison_op\n",
    "        self.threshold = threshold\n",
    "        self.left_child = left_child\n",
    "        self.right_child = right_child\n",
    "        self.data_count = data_count\n",
    "        self.sum_hess = sum_hess\n",
    "        self.gain = gain\n",
    "\n",
    "\n",
    "def build_tree_from_json(json_data):\n",
    "    nodes = {}\n",
    "    for node_data in json_data:\n",
    "        node_id = node_data[\"node_id\"]\n",
    "        split_feature_id = node_data[\"split_feature_id\"]\n",
    "        default_left = node_data[\"default_left\"]\n",
    "        split_type = node_data[\"split_type\"]\n",
    "        comparison_op = node_data[\"comparison_op\"]\n",
    "        threshold = node_data[\"threshold\"]\n",
    "        left_child = node_data[\"left_child\"]\n",
    "        right_child = node_data[\"right_child\"]\n",
    "        data_count = node_data[\"data_count\"]\n",
    "        sum_hess = node_data[\"sum_hess\"]\n",
    "        gain = node_data[\"gain\"]\n",
    "\n",
    "        nodes[node_id] = Node(\n",
    "            node_id,\n",
    "            split_feature_id,\n",
    "            default_left,\n",
    "            split_type,\n",
    "            comparison_op,\n",
    "            threshold,\n",
    "            left_child,\n",
    "            right_child,\n",
    "            data_count,\n",
    "            sum_hess,\n",
    "            gain,\n",
    "        )\n",
    "    return nodes\n",
    "\n",
    "\n",
    "def get_subtrees(nodes):\n",
    "    all_subtrees = []\n",
    "\n",
    "    def traverse(node_id):\n",
    "        if node_id is None:\n",
    "            return [None]\n",
    "\n",
    "        left_subtrees = traverse(nodes[node_id].left_child)\n",
    "        right_subtrees = traverse(nodes[node_id].right_child)\n",
    "\n",
    "        node_subtrees = []\n",
    "        for left in left_subtrees:\n",
    "            for right in right_subtrees:\n",
    "                subtree = [node_id]\n",
    "                if left is not None:\n",
    "                    subtree.extend(left)\n",
    "                if right is not None:\n",
    "                    subtree.extend(right)\n",
    "                node_subtrees.append(subtree)\n",
    "\n",
    "        all_subtrees.extend(node_subtrees)\n",
    "        return node_subtrees\n",
    "\n",
    "    traverse(0)  # Start traversal from the root node (assuming root is at node_id 0)\n",
    "    return all_subtrees\n",
    "\n"
   ]
  },
  {
   "cell_type": "code",
   "execution_count": 22,
   "metadata": {},
   "outputs": [
    {
     "data": {
      "text/plain": [
       "{0: <__main__.Node at 0x7f98cfa7fb20>,\n",
       " 1: <__main__.Node at 0x7f98cfa7fac0>,\n",
       " 2: <__main__.Node at 0x7f98cfa7fb50>}"
      ]
     },
     "execution_count": 22,
     "metadata": {},
     "output_type": "execute_result"
    }
   ],
   "source": [
    "tree_nodes = build_tree_from_json(treelite_model_json[\"trees\"][0][\"nodes\"][:3])\n",
    "tree_nodes"
   ]
  },
  {
   "cell_type": "code",
   "execution_count": null,
   "metadata": {},
   "outputs": [],
   "source": [
    "all_subtrees = get_subtrees(tree_nodes)\n",
    "print(\"All possible subtrees:\")\n",
    "for subtree in all_subtrees:\n",
    "    print(subtree)"
   ]
  }
 ],
 "metadata": {
  "kernelspec": {
   "display_name": ".venv",
   "language": "python",
   "name": "python3"
  },
  "language_info": {
   "codemirror_mode": {
    "name": "ipython",
    "version": 3
   },
   "file_extension": ".py",
   "mimetype": "text/x-python",
   "name": "python",
   "nbconvert_exporter": "python",
   "pygments_lexer": "ipython3",
   "version": "3.9.12"
  }
 },
 "nbformat": 4,
 "nbformat_minor": 2
}
